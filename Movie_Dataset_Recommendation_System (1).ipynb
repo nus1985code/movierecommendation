{
  "nbformat": 4,
  "nbformat_minor": 0,
  "metadata": {
    "colab": {
      "provenance": []
    },
    "kernelspec": {
      "name": "python3",
      "display_name": "Python 3"
    },
    "language_info": {
      "name": "python"
    }
  },
  "cells": [
    {
      "cell_type": "code",
      "execution_count": 146,
      "metadata": {
        "id": "p4kkA4zz92O3"
      },
      "outputs": [],
      "source": [
        "import pandas as pd\n",
        "import numpy as np\n",
        "import matplotlib.pyplot as plt\n",
        "import seaborn as sns"
      ]
    },
    {
      "cell_type": "code",
      "source": [
        "# Load the CSV file into a pandas DataFrame\n",
        "df = pd.read_csv(\"/content/tmdb_5000_movies.csv\")\n",
        "credits = pd.read_csv(\"/content/tmdb_5000_credits.csv\")\n",
        "\n",
        "# Display the first few rows of the dataset\n",
        "print(df.head())\n",
        "print(credits.head())"
      ],
      "metadata": {
        "colab": {
          "base_uri": "https://localhost:8080/"
        },
        "id": "k2Bq_b0s_8G8",
        "outputId": "57b1583c-b2db-48d6-c26f-95cbf05daad4"
      },
      "execution_count": 147,
      "outputs": [
        {
          "output_type": "stream",
          "name": "stdout",
          "text": [
            "      budget                                             genres  \\\n",
            "0  237000000  [{\"id\": 28, \"name\": \"Action\"}, {\"id\": 12, \"nam...   \n",
            "1  300000000  [{\"id\": 12, \"name\": \"Adventure\"}, {\"id\": 14, \"...   \n",
            "2  245000000  [{\"id\": 28, \"name\": \"Action\"}, {\"id\": 12, \"nam...   \n",
            "3  250000000  [{\"id\": 28, \"name\": \"Action\"}, {\"id\": 80, \"nam...   \n",
            "4  260000000  [{\"id\": 28, \"name\": \"Action\"}, {\"id\": 12, \"nam...   \n",
            "\n",
            "                                       homepage      id  \\\n",
            "0                   http://www.avatarmovie.com/   19995   \n",
            "1  http://disney.go.com/disneypictures/pirates/     285   \n",
            "2   http://www.sonypictures.com/movies/spectre/  206647   \n",
            "3            http://www.thedarkknightrises.com/   49026   \n",
            "4          http://movies.disney.com/john-carter   49529   \n",
            "\n",
            "                                            keywords original_language  \\\n",
            "0  [{\"id\": 1463, \"name\": \"culture clash\"}, {\"id\":...                en   \n",
            "1  [{\"id\": 270, \"name\": \"ocean\"}, {\"id\": 726, \"na...                en   \n",
            "2  [{\"id\": 470, \"name\": \"spy\"}, {\"id\": 818, \"name...                en   \n",
            "3  [{\"id\": 849, \"name\": \"dc comics\"}, {\"id\": 853,...                en   \n",
            "4  [{\"id\": 818, \"name\": \"based on novel\"}, {\"id\":...                en   \n",
            "\n",
            "                             original_title  \\\n",
            "0                                    Avatar   \n",
            "1  Pirates of the Caribbean: At World's End   \n",
            "2                                   Spectre   \n",
            "3                     The Dark Knight Rises   \n",
            "4                               John Carter   \n",
            "\n",
            "                                            overview  popularity  \\\n",
            "0  In the 22nd century, a paraplegic Marine is di...  150.437577   \n",
            "1  Captain Barbossa, long believed to be dead, ha...  139.082615   \n",
            "2  A cryptic message from Bond’s past sends him o...  107.376788   \n",
            "3  Following the death of District Attorney Harve...  112.312950   \n",
            "4  John Carter is a war-weary, former military ca...   43.926995   \n",
            "\n",
            "                                production_companies  \\\n",
            "0  [{\"name\": \"Ingenious Film Partners\", \"id\": 289...   \n",
            "1  [{\"name\": \"Walt Disney Pictures\", \"id\": 2}, {\"...   \n",
            "2  [{\"name\": \"Columbia Pictures\", \"id\": 5}, {\"nam...   \n",
            "3  [{\"name\": \"Legendary Pictures\", \"id\": 923}, {\"...   \n",
            "4        [{\"name\": \"Walt Disney Pictures\", \"id\": 2}]   \n",
            "\n",
            "                                production_countries release_date     revenue  \\\n",
            "0  [{\"iso_3166_1\": \"US\", \"name\": \"United States o...   2009-12-10  2787965087   \n",
            "1  [{\"iso_3166_1\": \"US\", \"name\": \"United States o...   2007-05-19   961000000   \n",
            "2  [{\"iso_3166_1\": \"GB\", \"name\": \"United Kingdom\"...   2015-10-26   880674609   \n",
            "3  [{\"iso_3166_1\": \"US\", \"name\": \"United States o...   2012-07-16  1084939099   \n",
            "4  [{\"iso_3166_1\": \"US\", \"name\": \"United States o...   2012-03-07   284139100   \n",
            "\n",
            "   runtime                                   spoken_languages    status  \\\n",
            "0    162.0  [{\"iso_639_1\": \"en\", \"name\": \"English\"}, {\"iso...  Released   \n",
            "1    169.0           [{\"iso_639_1\": \"en\", \"name\": \"English\"}]  Released   \n",
            "2    148.0  [{\"iso_639_1\": \"fr\", \"name\": \"Fran\\u00e7ais\"},...  Released   \n",
            "3    165.0           [{\"iso_639_1\": \"en\", \"name\": \"English\"}]  Released   \n",
            "4    132.0           [{\"iso_639_1\": \"en\", \"name\": \"English\"}]  Released   \n",
            "\n",
            "                                          tagline  \\\n",
            "0                     Enter the World of Pandora.   \n",
            "1  At the end of the world, the adventure begins.   \n",
            "2                           A Plan No One Escapes   \n",
            "3                                 The Legend Ends   \n",
            "4            Lost in our world, found in another.   \n",
            "\n",
            "                                      title  vote_average  vote_count  \n",
            "0                                    Avatar           7.2       11800  \n",
            "1  Pirates of the Caribbean: At World's End           6.9        4500  \n",
            "2                                   Spectre           6.3        4466  \n",
            "3                     The Dark Knight Rises           7.6        9106  \n",
            "4                               John Carter           6.1        2124  \n",
            "   movie_id                                     title  \\\n",
            "0     19995                                    Avatar   \n",
            "1       285  Pirates of the Caribbean: At World's End   \n",
            "2    206647                                   Spectre   \n",
            "3     49026                     The Dark Knight Rises   \n",
            "4     49529                               John Carter   \n",
            "\n",
            "                                                cast  \\\n",
            "0  [{\"cast_id\": 242, \"character\": \"Jake Sully\", \"...   \n",
            "1  [{\"cast_id\": 4, \"character\": \"Captain Jack Spa...   \n",
            "2  [{\"cast_id\": 1, \"character\": \"James Bond\", \"cr...   \n",
            "3  [{\"cast_id\": 2, \"character\": \"Bruce Wayne / Ba...   \n",
            "4  [{\"cast_id\": 5, \"character\": \"John Carter\", \"c...   \n",
            "\n",
            "                                                crew  \n",
            "0  [{\"credit_id\": \"52fe48009251416c750aca23\", \"de...  \n",
            "1  [{\"credit_id\": \"52fe4232c3a36847f800b579\", \"de...  \n",
            "2  [{\"credit_id\": \"54805967c3a36829b5002c41\", \"de...  \n",
            "3  [{\"credit_id\": \"52fe4781c3a36847f81398c3\", \"de...  \n",
            "4  [{\"credit_id\": \"52fe479ac3a36847f813eaa3\", \"de...  \n"
          ]
        }
      ]
    },
    {
      "cell_type": "code",
      "source": [
        "df.info()"
      ],
      "metadata": {
        "colab": {
          "base_uri": "https://localhost:8080/"
        },
        "id": "QT58A3nYXonB",
        "outputId": "6eda31f8-1152-474b-de9b-c7f2b4ef3d43"
      },
      "execution_count": 148,
      "outputs": [
        {
          "output_type": "stream",
          "name": "stdout",
          "text": [
            "<class 'pandas.core.frame.DataFrame'>\n",
            "RangeIndex: 4803 entries, 0 to 4802\n",
            "Data columns (total 20 columns):\n",
            " #   Column                Non-Null Count  Dtype  \n",
            "---  ------                --------------  -----  \n",
            " 0   budget                4803 non-null   int64  \n",
            " 1   genres                4803 non-null   object \n",
            " 2   homepage              1712 non-null   object \n",
            " 3   id                    4803 non-null   int64  \n",
            " 4   keywords              4803 non-null   object \n",
            " 5   original_language     4803 non-null   object \n",
            " 6   original_title        4803 non-null   object \n",
            " 7   overview              4800 non-null   object \n",
            " 8   popularity            4803 non-null   float64\n",
            " 9   production_companies  4803 non-null   object \n",
            " 10  production_countries  4803 non-null   object \n",
            " 11  release_date          4802 non-null   object \n",
            " 12  revenue               4803 non-null   int64  \n",
            " 13  runtime               4801 non-null   float64\n",
            " 14  spoken_languages      4803 non-null   object \n",
            " 15  status                4803 non-null   object \n",
            " 16  tagline               3959 non-null   object \n",
            " 17  title                 4803 non-null   object \n",
            " 18  vote_average          4803 non-null   float64\n",
            " 19  vote_count            4803 non-null   int64  \n",
            "dtypes: float64(3), int64(4), object(13)\n",
            "memory usage: 750.6+ KB\n"
          ]
        }
      ]
    },
    {
      "cell_type": "code",
      "source": [
        "credits.info()"
      ],
      "metadata": {
        "id": "b3glm7GOd0cH",
        "outputId": "5c76844e-b70c-4b66-a428-469c67f0ec80",
        "colab": {
          "base_uri": "https://localhost:8080/"
        }
      },
      "execution_count": 149,
      "outputs": [
        {
          "output_type": "stream",
          "name": "stdout",
          "text": [
            "<class 'pandas.core.frame.DataFrame'>\n",
            "RangeIndex: 4803 entries, 0 to 4802\n",
            "Data columns (total 4 columns):\n",
            " #   Column    Non-Null Count  Dtype \n",
            "---  ------    --------------  ----- \n",
            " 0   movie_id  4803 non-null   int64 \n",
            " 1   title     4803 non-null   object\n",
            " 2   cast      4803 non-null   object\n",
            " 3   crew      4803 non-null   object\n",
            "dtypes: int64(1), object(3)\n",
            "memory usage: 150.2+ KB\n"
          ]
        }
      ]
    },
    {
      "cell_type": "markdown",
      "source": [
        "#Merge Two datasets"
      ],
      "metadata": {
        "id": "k97E1eNbU9Wp"
      }
    },
    {
      "cell_type": "code",
      "source": [
        "df = df.merge(credits,on='title')"
      ],
      "metadata": {
        "id": "tRoirmgrU0OM"
      },
      "execution_count": 150,
      "outputs": []
    },
    {
      "cell_type": "code",
      "source": [
        "df.head()"
      ],
      "metadata": {
        "colab": {
          "base_uri": "https://localhost:8080/",
          "height": 706
        },
        "id": "12QDHOUyU0GY",
        "outputId": "de698e29-71d8-4b72-8d1c-9ee3174670ee"
      },
      "execution_count": 151,
      "outputs": [
        {
          "output_type": "execute_result",
          "data": {
            "text/plain": [
              "      budget                                             genres  \\\n",
              "0  237000000  [{\"id\": 28, \"name\": \"Action\"}, {\"id\": 12, \"nam...   \n",
              "1  300000000  [{\"id\": 12, \"name\": \"Adventure\"}, {\"id\": 14, \"...   \n",
              "2  245000000  [{\"id\": 28, \"name\": \"Action\"}, {\"id\": 12, \"nam...   \n",
              "3  250000000  [{\"id\": 28, \"name\": \"Action\"}, {\"id\": 80, \"nam...   \n",
              "4  260000000  [{\"id\": 28, \"name\": \"Action\"}, {\"id\": 12, \"nam...   \n",
              "\n",
              "                                       homepage      id  \\\n",
              "0                   http://www.avatarmovie.com/   19995   \n",
              "1  http://disney.go.com/disneypictures/pirates/     285   \n",
              "2   http://www.sonypictures.com/movies/spectre/  206647   \n",
              "3            http://www.thedarkknightrises.com/   49026   \n",
              "4          http://movies.disney.com/john-carter   49529   \n",
              "\n",
              "                                            keywords original_language  \\\n",
              "0  [{\"id\": 1463, \"name\": \"culture clash\"}, {\"id\":...                en   \n",
              "1  [{\"id\": 270, \"name\": \"ocean\"}, {\"id\": 726, \"na...                en   \n",
              "2  [{\"id\": 470, \"name\": \"spy\"}, {\"id\": 818, \"name...                en   \n",
              "3  [{\"id\": 849, \"name\": \"dc comics\"}, {\"id\": 853,...                en   \n",
              "4  [{\"id\": 818, \"name\": \"based on novel\"}, {\"id\":...                en   \n",
              "\n",
              "                             original_title  \\\n",
              "0                                    Avatar   \n",
              "1  Pirates of the Caribbean: At World's End   \n",
              "2                                   Spectre   \n",
              "3                     The Dark Knight Rises   \n",
              "4                               John Carter   \n",
              "\n",
              "                                            overview  popularity  \\\n",
              "0  In the 22nd century, a paraplegic Marine is di...  150.437577   \n",
              "1  Captain Barbossa, long believed to be dead, ha...  139.082615   \n",
              "2  A cryptic message from Bond’s past sends him o...  107.376788   \n",
              "3  Following the death of District Attorney Harve...  112.312950   \n",
              "4  John Carter is a war-weary, former military ca...   43.926995   \n",
              "\n",
              "                                production_companies  ... runtime  \\\n",
              "0  [{\"name\": \"Ingenious Film Partners\", \"id\": 289...  ...   162.0   \n",
              "1  [{\"name\": \"Walt Disney Pictures\", \"id\": 2}, {\"...  ...   169.0   \n",
              "2  [{\"name\": \"Columbia Pictures\", \"id\": 5}, {\"nam...  ...   148.0   \n",
              "3  [{\"name\": \"Legendary Pictures\", \"id\": 923}, {\"...  ...   165.0   \n",
              "4        [{\"name\": \"Walt Disney Pictures\", \"id\": 2}]  ...   132.0   \n",
              "\n",
              "                                    spoken_languages    status  \\\n",
              "0  [{\"iso_639_1\": \"en\", \"name\": \"English\"}, {\"iso...  Released   \n",
              "1           [{\"iso_639_1\": \"en\", \"name\": \"English\"}]  Released   \n",
              "2  [{\"iso_639_1\": \"fr\", \"name\": \"Fran\\u00e7ais\"},...  Released   \n",
              "3           [{\"iso_639_1\": \"en\", \"name\": \"English\"}]  Released   \n",
              "4           [{\"iso_639_1\": \"en\", \"name\": \"English\"}]  Released   \n",
              "\n",
              "                                          tagline  \\\n",
              "0                     Enter the World of Pandora.   \n",
              "1  At the end of the world, the adventure begins.   \n",
              "2                           A Plan No One Escapes   \n",
              "3                                 The Legend Ends   \n",
              "4            Lost in our world, found in another.   \n",
              "\n",
              "                                      title vote_average vote_count movie_id  \\\n",
              "0                                    Avatar          7.2      11800    19995   \n",
              "1  Pirates of the Caribbean: At World's End          6.9       4500      285   \n",
              "2                                   Spectre          6.3       4466   206647   \n",
              "3                     The Dark Knight Rises          7.6       9106    49026   \n",
              "4                               John Carter          6.1       2124    49529   \n",
              "\n",
              "                                                cast  \\\n",
              "0  [{\"cast_id\": 242, \"character\": \"Jake Sully\", \"...   \n",
              "1  [{\"cast_id\": 4, \"character\": \"Captain Jack Spa...   \n",
              "2  [{\"cast_id\": 1, \"character\": \"James Bond\", \"cr...   \n",
              "3  [{\"cast_id\": 2, \"character\": \"Bruce Wayne / Ba...   \n",
              "4  [{\"cast_id\": 5, \"character\": \"John Carter\", \"c...   \n",
              "\n",
              "                                                crew  \n",
              "0  [{\"credit_id\": \"52fe48009251416c750aca23\", \"de...  \n",
              "1  [{\"credit_id\": \"52fe4232c3a36847f800b579\", \"de...  \n",
              "2  [{\"credit_id\": \"54805967c3a36829b5002c41\", \"de...  \n",
              "3  [{\"credit_id\": \"52fe4781c3a36847f81398c3\", \"de...  \n",
              "4  [{\"credit_id\": \"52fe479ac3a36847f813eaa3\", \"de...  \n",
              "\n",
              "[5 rows x 23 columns]"
            ],
            "text/html": [
              "\n",
              "  <div id=\"df-a3de9e52-d750-404f-9cd8-7772f500b8fd\" class=\"colab-df-container\">\n",
              "    <div>\n",
              "<style scoped>\n",
              "    .dataframe tbody tr th:only-of-type {\n",
              "        vertical-align: middle;\n",
              "    }\n",
              "\n",
              "    .dataframe tbody tr th {\n",
              "        vertical-align: top;\n",
              "    }\n",
              "\n",
              "    .dataframe thead th {\n",
              "        text-align: right;\n",
              "    }\n",
              "</style>\n",
              "<table border=\"1\" class=\"dataframe\">\n",
              "  <thead>\n",
              "    <tr style=\"text-align: right;\">\n",
              "      <th></th>\n",
              "      <th>budget</th>\n",
              "      <th>genres</th>\n",
              "      <th>homepage</th>\n",
              "      <th>id</th>\n",
              "      <th>keywords</th>\n",
              "      <th>original_language</th>\n",
              "      <th>original_title</th>\n",
              "      <th>overview</th>\n",
              "      <th>popularity</th>\n",
              "      <th>production_companies</th>\n",
              "      <th>...</th>\n",
              "      <th>runtime</th>\n",
              "      <th>spoken_languages</th>\n",
              "      <th>status</th>\n",
              "      <th>tagline</th>\n",
              "      <th>title</th>\n",
              "      <th>vote_average</th>\n",
              "      <th>vote_count</th>\n",
              "      <th>movie_id</th>\n",
              "      <th>cast</th>\n",
              "      <th>crew</th>\n",
              "    </tr>\n",
              "  </thead>\n",
              "  <tbody>\n",
              "    <tr>\n",
              "      <th>0</th>\n",
              "      <td>237000000</td>\n",
              "      <td>[{\"id\": 28, \"name\": \"Action\"}, {\"id\": 12, \"nam...</td>\n",
              "      <td>http://www.avatarmovie.com/</td>\n",
              "      <td>19995</td>\n",
              "      <td>[{\"id\": 1463, \"name\": \"culture clash\"}, {\"id\":...</td>\n",
              "      <td>en</td>\n",
              "      <td>Avatar</td>\n",
              "      <td>In the 22nd century, a paraplegic Marine is di...</td>\n",
              "      <td>150.437577</td>\n",
              "      <td>[{\"name\": \"Ingenious Film Partners\", \"id\": 289...</td>\n",
              "      <td>...</td>\n",
              "      <td>162.0</td>\n",
              "      <td>[{\"iso_639_1\": \"en\", \"name\": \"English\"}, {\"iso...</td>\n",
              "      <td>Released</td>\n",
              "      <td>Enter the World of Pandora.</td>\n",
              "      <td>Avatar</td>\n",
              "      <td>7.2</td>\n",
              "      <td>11800</td>\n",
              "      <td>19995</td>\n",
              "      <td>[{\"cast_id\": 242, \"character\": \"Jake Sully\", \"...</td>\n",
              "      <td>[{\"credit_id\": \"52fe48009251416c750aca23\", \"de...</td>\n",
              "    </tr>\n",
              "    <tr>\n",
              "      <th>1</th>\n",
              "      <td>300000000</td>\n",
              "      <td>[{\"id\": 12, \"name\": \"Adventure\"}, {\"id\": 14, \"...</td>\n",
              "      <td>http://disney.go.com/disneypictures/pirates/</td>\n",
              "      <td>285</td>\n",
              "      <td>[{\"id\": 270, \"name\": \"ocean\"}, {\"id\": 726, \"na...</td>\n",
              "      <td>en</td>\n",
              "      <td>Pirates of the Caribbean: At World's End</td>\n",
              "      <td>Captain Barbossa, long believed to be dead, ha...</td>\n",
              "      <td>139.082615</td>\n",
              "      <td>[{\"name\": \"Walt Disney Pictures\", \"id\": 2}, {\"...</td>\n",
              "      <td>...</td>\n",
              "      <td>169.0</td>\n",
              "      <td>[{\"iso_639_1\": \"en\", \"name\": \"English\"}]</td>\n",
              "      <td>Released</td>\n",
              "      <td>At the end of the world, the adventure begins.</td>\n",
              "      <td>Pirates of the Caribbean: At World's End</td>\n",
              "      <td>6.9</td>\n",
              "      <td>4500</td>\n",
              "      <td>285</td>\n",
              "      <td>[{\"cast_id\": 4, \"character\": \"Captain Jack Spa...</td>\n",
              "      <td>[{\"credit_id\": \"52fe4232c3a36847f800b579\", \"de...</td>\n",
              "    </tr>\n",
              "    <tr>\n",
              "      <th>2</th>\n",
              "      <td>245000000</td>\n",
              "      <td>[{\"id\": 28, \"name\": \"Action\"}, {\"id\": 12, \"nam...</td>\n",
              "      <td>http://www.sonypictures.com/movies/spectre/</td>\n",
              "      <td>206647</td>\n",
              "      <td>[{\"id\": 470, \"name\": \"spy\"}, {\"id\": 818, \"name...</td>\n",
              "      <td>en</td>\n",
              "      <td>Spectre</td>\n",
              "      <td>A cryptic message from Bond’s past sends him o...</td>\n",
              "      <td>107.376788</td>\n",
              "      <td>[{\"name\": \"Columbia Pictures\", \"id\": 5}, {\"nam...</td>\n",
              "      <td>...</td>\n",
              "      <td>148.0</td>\n",
              "      <td>[{\"iso_639_1\": \"fr\", \"name\": \"Fran\\u00e7ais\"},...</td>\n",
              "      <td>Released</td>\n",
              "      <td>A Plan No One Escapes</td>\n",
              "      <td>Spectre</td>\n",
              "      <td>6.3</td>\n",
              "      <td>4466</td>\n",
              "      <td>206647</td>\n",
              "      <td>[{\"cast_id\": 1, \"character\": \"James Bond\", \"cr...</td>\n",
              "      <td>[{\"credit_id\": \"54805967c3a36829b5002c41\", \"de...</td>\n",
              "    </tr>\n",
              "    <tr>\n",
              "      <th>3</th>\n",
              "      <td>250000000</td>\n",
              "      <td>[{\"id\": 28, \"name\": \"Action\"}, {\"id\": 80, \"nam...</td>\n",
              "      <td>http://www.thedarkknightrises.com/</td>\n",
              "      <td>49026</td>\n",
              "      <td>[{\"id\": 849, \"name\": \"dc comics\"}, {\"id\": 853,...</td>\n",
              "      <td>en</td>\n",
              "      <td>The Dark Knight Rises</td>\n",
              "      <td>Following the death of District Attorney Harve...</td>\n",
              "      <td>112.312950</td>\n",
              "      <td>[{\"name\": \"Legendary Pictures\", \"id\": 923}, {\"...</td>\n",
              "      <td>...</td>\n",
              "      <td>165.0</td>\n",
              "      <td>[{\"iso_639_1\": \"en\", \"name\": \"English\"}]</td>\n",
              "      <td>Released</td>\n",
              "      <td>The Legend Ends</td>\n",
              "      <td>The Dark Knight Rises</td>\n",
              "      <td>7.6</td>\n",
              "      <td>9106</td>\n",
              "      <td>49026</td>\n",
              "      <td>[{\"cast_id\": 2, \"character\": \"Bruce Wayne / Ba...</td>\n",
              "      <td>[{\"credit_id\": \"52fe4781c3a36847f81398c3\", \"de...</td>\n",
              "    </tr>\n",
              "    <tr>\n",
              "      <th>4</th>\n",
              "      <td>260000000</td>\n",
              "      <td>[{\"id\": 28, \"name\": \"Action\"}, {\"id\": 12, \"nam...</td>\n",
              "      <td>http://movies.disney.com/john-carter</td>\n",
              "      <td>49529</td>\n",
              "      <td>[{\"id\": 818, \"name\": \"based on novel\"}, {\"id\":...</td>\n",
              "      <td>en</td>\n",
              "      <td>John Carter</td>\n",
              "      <td>John Carter is a war-weary, former military ca...</td>\n",
              "      <td>43.926995</td>\n",
              "      <td>[{\"name\": \"Walt Disney Pictures\", \"id\": 2}]</td>\n",
              "      <td>...</td>\n",
              "      <td>132.0</td>\n",
              "      <td>[{\"iso_639_1\": \"en\", \"name\": \"English\"}]</td>\n",
              "      <td>Released</td>\n",
              "      <td>Lost in our world, found in another.</td>\n",
              "      <td>John Carter</td>\n",
              "      <td>6.1</td>\n",
              "      <td>2124</td>\n",
              "      <td>49529</td>\n",
              "      <td>[{\"cast_id\": 5, \"character\": \"John Carter\", \"c...</td>\n",
              "      <td>[{\"credit_id\": \"52fe479ac3a36847f813eaa3\", \"de...</td>\n",
              "    </tr>\n",
              "  </tbody>\n",
              "</table>\n",
              "<p>5 rows × 23 columns</p>\n",
              "</div>\n",
              "    <div class=\"colab-df-buttons\">\n",
              "\n",
              "  <div class=\"colab-df-container\">\n",
              "    <button class=\"colab-df-convert\" onclick=\"convertToInteractive('df-a3de9e52-d750-404f-9cd8-7772f500b8fd')\"\n",
              "            title=\"Convert this dataframe to an interactive table.\"\n",
              "            style=\"display:none;\">\n",
              "\n",
              "  <svg xmlns=\"http://www.w3.org/2000/svg\" height=\"24px\" viewBox=\"0 -960 960 960\">\n",
              "    <path d=\"M120-120v-720h720v720H120Zm60-500h600v-160H180v160Zm220 220h160v-160H400v160Zm0 220h160v-160H400v160ZM180-400h160v-160H180v160Zm440 0h160v-160H620v160ZM180-180h160v-160H180v160Zm440 0h160v-160H620v160Z\"/>\n",
              "  </svg>\n",
              "    </button>\n",
              "\n",
              "  <style>\n",
              "    .colab-df-container {\n",
              "      display:flex;\n",
              "      gap: 12px;\n",
              "    }\n",
              "\n",
              "    .colab-df-convert {\n",
              "      background-color: #E8F0FE;\n",
              "      border: none;\n",
              "      border-radius: 50%;\n",
              "      cursor: pointer;\n",
              "      display: none;\n",
              "      fill: #1967D2;\n",
              "      height: 32px;\n",
              "      padding: 0 0 0 0;\n",
              "      width: 32px;\n",
              "    }\n",
              "\n",
              "    .colab-df-convert:hover {\n",
              "      background-color: #E2EBFA;\n",
              "      box-shadow: 0px 1px 2px rgba(60, 64, 67, 0.3), 0px 1px 3px 1px rgba(60, 64, 67, 0.15);\n",
              "      fill: #174EA6;\n",
              "    }\n",
              "\n",
              "    .colab-df-buttons div {\n",
              "      margin-bottom: 4px;\n",
              "    }\n",
              "\n",
              "    [theme=dark] .colab-df-convert {\n",
              "      background-color: #3B4455;\n",
              "      fill: #D2E3FC;\n",
              "    }\n",
              "\n",
              "    [theme=dark] .colab-df-convert:hover {\n",
              "      background-color: #434B5C;\n",
              "      box-shadow: 0px 1px 3px 1px rgba(0, 0, 0, 0.15);\n",
              "      filter: drop-shadow(0px 1px 2px rgba(0, 0, 0, 0.3));\n",
              "      fill: #FFFFFF;\n",
              "    }\n",
              "  </style>\n",
              "\n",
              "    <script>\n",
              "      const buttonEl =\n",
              "        document.querySelector('#df-a3de9e52-d750-404f-9cd8-7772f500b8fd button.colab-df-convert');\n",
              "      buttonEl.style.display =\n",
              "        google.colab.kernel.accessAllowed ? 'block' : 'none';\n",
              "\n",
              "      async function convertToInteractive(key) {\n",
              "        const element = document.querySelector('#df-a3de9e52-d750-404f-9cd8-7772f500b8fd');\n",
              "        const dataTable =\n",
              "          await google.colab.kernel.invokeFunction('convertToInteractive',\n",
              "                                                    [key], {});\n",
              "        if (!dataTable) return;\n",
              "\n",
              "        const docLinkHtml = 'Like what you see? Visit the ' +\n",
              "          '<a target=\"_blank\" href=https://colab.research.google.com/notebooks/data_table.ipynb>data table notebook</a>'\n",
              "          + ' to learn more about interactive tables.';\n",
              "        element.innerHTML = '';\n",
              "        dataTable['output_type'] = 'display_data';\n",
              "        await google.colab.output.renderOutput(dataTable, element);\n",
              "        const docLink = document.createElement('div');\n",
              "        docLink.innerHTML = docLinkHtml;\n",
              "        element.appendChild(docLink);\n",
              "      }\n",
              "    </script>\n",
              "  </div>\n",
              "\n",
              "\n",
              "<div id=\"df-888eca54-bd07-455d-aa6c-3702a3ad932b\">\n",
              "  <button class=\"colab-df-quickchart\" onclick=\"quickchart('df-888eca54-bd07-455d-aa6c-3702a3ad932b')\"\n",
              "            title=\"Suggest charts\"\n",
              "            style=\"display:none;\">\n",
              "\n",
              "<svg xmlns=\"http://www.w3.org/2000/svg\" height=\"24px\"viewBox=\"0 0 24 24\"\n",
              "     width=\"24px\">\n",
              "    <g>\n",
              "        <path d=\"M19 3H5c-1.1 0-2 .9-2 2v14c0 1.1.9 2 2 2h14c1.1 0 2-.9 2-2V5c0-1.1-.9-2-2-2zM9 17H7v-7h2v7zm4 0h-2V7h2v10zm4 0h-2v-4h2v4z\"/>\n",
              "    </g>\n",
              "</svg>\n",
              "  </button>\n",
              "\n",
              "<style>\n",
              "  .colab-df-quickchart {\n",
              "      --bg-color: #E8F0FE;\n",
              "      --fill-color: #1967D2;\n",
              "      --hover-bg-color: #E2EBFA;\n",
              "      --hover-fill-color: #174EA6;\n",
              "      --disabled-fill-color: #AAA;\n",
              "      --disabled-bg-color: #DDD;\n",
              "  }\n",
              "\n",
              "  [theme=dark] .colab-df-quickchart {\n",
              "      --bg-color: #3B4455;\n",
              "      --fill-color: #D2E3FC;\n",
              "      --hover-bg-color: #434B5C;\n",
              "      --hover-fill-color: #FFFFFF;\n",
              "      --disabled-bg-color: #3B4455;\n",
              "      --disabled-fill-color: #666;\n",
              "  }\n",
              "\n",
              "  .colab-df-quickchart {\n",
              "    background-color: var(--bg-color);\n",
              "    border: none;\n",
              "    border-radius: 50%;\n",
              "    cursor: pointer;\n",
              "    display: none;\n",
              "    fill: var(--fill-color);\n",
              "    height: 32px;\n",
              "    padding: 0;\n",
              "    width: 32px;\n",
              "  }\n",
              "\n",
              "  .colab-df-quickchart:hover {\n",
              "    background-color: var(--hover-bg-color);\n",
              "    box-shadow: 0 1px 2px rgba(60, 64, 67, 0.3), 0 1px 3px 1px rgba(60, 64, 67, 0.15);\n",
              "    fill: var(--button-hover-fill-color);\n",
              "  }\n",
              "\n",
              "  .colab-df-quickchart-complete:disabled,\n",
              "  .colab-df-quickchart-complete:disabled:hover {\n",
              "    background-color: var(--disabled-bg-color);\n",
              "    fill: var(--disabled-fill-color);\n",
              "    box-shadow: none;\n",
              "  }\n",
              "\n",
              "  .colab-df-spinner {\n",
              "    border: 2px solid var(--fill-color);\n",
              "    border-color: transparent;\n",
              "    border-bottom-color: var(--fill-color);\n",
              "    animation:\n",
              "      spin 1s steps(1) infinite;\n",
              "  }\n",
              "\n",
              "  @keyframes spin {\n",
              "    0% {\n",
              "      border-color: transparent;\n",
              "      border-bottom-color: var(--fill-color);\n",
              "      border-left-color: var(--fill-color);\n",
              "    }\n",
              "    20% {\n",
              "      border-color: transparent;\n",
              "      border-left-color: var(--fill-color);\n",
              "      border-top-color: var(--fill-color);\n",
              "    }\n",
              "    30% {\n",
              "      border-color: transparent;\n",
              "      border-left-color: var(--fill-color);\n",
              "      border-top-color: var(--fill-color);\n",
              "      border-right-color: var(--fill-color);\n",
              "    }\n",
              "    40% {\n",
              "      border-color: transparent;\n",
              "      border-right-color: var(--fill-color);\n",
              "      border-top-color: var(--fill-color);\n",
              "    }\n",
              "    60% {\n",
              "      border-color: transparent;\n",
              "      border-right-color: var(--fill-color);\n",
              "    }\n",
              "    80% {\n",
              "      border-color: transparent;\n",
              "      border-right-color: var(--fill-color);\n",
              "      border-bottom-color: var(--fill-color);\n",
              "    }\n",
              "    90% {\n",
              "      border-color: transparent;\n",
              "      border-bottom-color: var(--fill-color);\n",
              "    }\n",
              "  }\n",
              "</style>\n",
              "\n",
              "  <script>\n",
              "    async function quickchart(key) {\n",
              "      const quickchartButtonEl =\n",
              "        document.querySelector('#' + key + ' button');\n",
              "      quickchartButtonEl.disabled = true;  // To prevent multiple clicks.\n",
              "      quickchartButtonEl.classList.add('colab-df-spinner');\n",
              "      try {\n",
              "        const charts = await google.colab.kernel.invokeFunction(\n",
              "            'suggestCharts', [key], {});\n",
              "      } catch (error) {\n",
              "        console.error('Error during call to suggestCharts:', error);\n",
              "      }\n",
              "      quickchartButtonEl.classList.remove('colab-df-spinner');\n",
              "      quickchartButtonEl.classList.add('colab-df-quickchart-complete');\n",
              "    }\n",
              "    (() => {\n",
              "      let quickchartButtonEl =\n",
              "        document.querySelector('#df-888eca54-bd07-455d-aa6c-3702a3ad932b button');\n",
              "      quickchartButtonEl.style.display =\n",
              "        google.colab.kernel.accessAllowed ? 'block' : 'none';\n",
              "    })();\n",
              "  </script>\n",
              "</div>\n",
              "\n",
              "    </div>\n",
              "  </div>\n"
            ],
            "application/vnd.google.colaboratory.intrinsic+json": {
              "type": "dataframe",
              "variable_name": "df"
            }
          },
          "metadata": {},
          "execution_count": 151
        }
      ]
    },
    {
      "cell_type": "markdown",
      "source": [
        "# Columns Shortlisting for making tags for recommendation system"
      ],
      "metadata": {
        "id": "ZGdP0gLxVOI1"
      }
    },
    {
      "cell_type": "code",
      "source": [
        "df = df[['movie_id','title','overview','genres','keywords','cast','crew']]"
      ],
      "metadata": {
        "id": "-L2vEVbYUz29"
      },
      "execution_count": 152,
      "outputs": []
    },
    {
      "cell_type": "code",
      "source": [
        "df.isnull().sum()"
      ],
      "metadata": {
        "colab": {
          "base_uri": "https://localhost:8080/",
          "height": 303
        },
        "id": "G6gj0_6FUzQJ",
        "outputId": "491b49fd-c9c7-418e-bb92-dbbe836c6d09"
      },
      "execution_count": 153,
      "outputs": [
        {
          "output_type": "execute_result",
          "data": {
            "text/plain": [
              "movie_id    0\n",
              "title       0\n",
              "overview    3\n",
              "genres      0\n",
              "keywords    0\n",
              "cast        0\n",
              "crew        0\n",
              "dtype: int64"
            ],
            "text/html": [
              "<div>\n",
              "<style scoped>\n",
              "    .dataframe tbody tr th:only-of-type {\n",
              "        vertical-align: middle;\n",
              "    }\n",
              "\n",
              "    .dataframe tbody tr th {\n",
              "        vertical-align: top;\n",
              "    }\n",
              "\n",
              "    .dataframe thead th {\n",
              "        text-align: right;\n",
              "    }\n",
              "</style>\n",
              "<table border=\"1\" class=\"dataframe\">\n",
              "  <thead>\n",
              "    <tr style=\"text-align: right;\">\n",
              "      <th></th>\n",
              "      <th>0</th>\n",
              "    </tr>\n",
              "  </thead>\n",
              "  <tbody>\n",
              "    <tr>\n",
              "      <th>movie_id</th>\n",
              "      <td>0</td>\n",
              "    </tr>\n",
              "    <tr>\n",
              "      <th>title</th>\n",
              "      <td>0</td>\n",
              "    </tr>\n",
              "    <tr>\n",
              "      <th>overview</th>\n",
              "      <td>3</td>\n",
              "    </tr>\n",
              "    <tr>\n",
              "      <th>genres</th>\n",
              "      <td>0</td>\n",
              "    </tr>\n",
              "    <tr>\n",
              "      <th>keywords</th>\n",
              "      <td>0</td>\n",
              "    </tr>\n",
              "    <tr>\n",
              "      <th>cast</th>\n",
              "      <td>0</td>\n",
              "    </tr>\n",
              "    <tr>\n",
              "      <th>crew</th>\n",
              "      <td>0</td>\n",
              "    </tr>\n",
              "  </tbody>\n",
              "</table>\n",
              "</div><br><label><b>dtype:</b> int64</label>"
            ]
          },
          "metadata": {},
          "execution_count": 153
        }
      ]
    },
    {
      "cell_type": "code",
      "source": [
        "df.dropna(inplace=True)"
      ],
      "metadata": {
        "id": "PRWEnVqxcRXf"
      },
      "execution_count": 154,
      "outputs": []
    },
    {
      "cell_type": "code",
      "source": [
        "df.duplicated().sum()"
      ],
      "metadata": {
        "colab": {
          "base_uri": "https://localhost:8080/"
        },
        "id": "gDTzeAMzgODB",
        "outputId": "189efad2-650d-4aef-a967-8ce53d34ebcd"
      },
      "execution_count": 155,
      "outputs": [
        {
          "output_type": "execute_result",
          "data": {
            "text/plain": [
              "0"
            ]
          },
          "metadata": {},
          "execution_count": 155
        }
      ]
    },
    {
      "cell_type": "code",
      "source": [
        "df.iloc[0].genres"
      ],
      "metadata": {
        "colab": {
          "base_uri": "https://localhost:8080/",
          "height": 52
        },
        "id": "8TtUn54egNnZ",
        "outputId": "fc76a279-20f6-4a7a-db8a-a2def1ecb7fd"
      },
      "execution_count": 156,
      "outputs": [
        {
          "output_type": "execute_result",
          "data": {
            "text/plain": [
              "'[{\"id\": 28, \"name\": \"Action\"}, {\"id\": 12, \"name\": \"Adventure\"}, {\"id\": 14, \"name\": \"Fantasy\"}, {\"id\": 878, \"name\": \"Science Fiction\"}]'"
            ],
            "application/vnd.google.colaboratory.intrinsic+json": {
              "type": "string"
            }
          },
          "metadata": {},
          "execution_count": 156
        }
      ]
    },
    {
      "cell_type": "code",
      "source": [
        "df.iloc[5].keywords"
      ],
      "metadata": {
        "colab": {
          "base_uri": "https://localhost:8080/",
          "height": 122
        },
        "id": "5QTBluawlixO",
        "outputId": "66f6d165-ecc6-4fe1-e990-7f8bc8e99d21"
      },
      "execution_count": 157,
      "outputs": [
        {
          "output_type": "execute_result",
          "data": {
            "text/plain": [
              "'[{\"id\": 851, \"name\": \"dual identity\"}, {\"id\": 1453, \"name\": \"amnesia\"}, {\"id\": 1965, \"name\": \"sandstorm\"}, {\"id\": 2038, \"name\": \"love of one\\'s life\"}, {\"id\": 3446, \"name\": \"forgiveness\"}, {\"id\": 3986, \"name\": \"spider\"}, {\"id\": 4391, \"name\": \"wretch\"}, {\"id\": 4959, \"name\": \"death of a friend\"}, {\"id\": 5776, \"name\": \"egomania\"}, {\"id\": 5789, \"name\": \"sand\"}, {\"id\": 5857, \"name\": \"narcism\"}, {\"id\": 6062, \"name\": \"hostility\"}, {\"id\": 8828, \"name\": \"marvel comic\"}, {\"id\": 9663, \"name\": \"sequel\"}, {\"id\": 9715, \"name\": \"superhero\"}, {\"id\": 9748, \"name\": \"revenge\"}]'"
            ],
            "application/vnd.google.colaboratory.intrinsic+json": {
              "type": "string"
            }
          },
          "metadata": {},
          "execution_count": 157
        }
      ]
    },
    {
      "cell_type": "markdown",
      "source": [
        "# Formatting \"Genres\" & \"Keywords\" Column into list format  to merge it with Overview"
      ],
      "metadata": {
        "id": "ZrJl46SZhSIe"
      }
    },
    {
      "cell_type": "code",
      "source": [
        "import ast"
      ],
      "metadata": {
        "id": "Uj8y_McukPMe"
      },
      "execution_count": 158,
      "outputs": []
    },
    {
      "cell_type": "code",
      "source": [
        "def convert(obj):\n",
        "  l=[]\n",
        "  for i in ast.literal_eval(obj):\n",
        "    l.append(i['name'])\n",
        "  return l"
      ],
      "metadata": {
        "id": "V1ubuWK4gxnd"
      },
      "execution_count": 159,
      "outputs": []
    },
    {
      "cell_type": "code",
      "source": [
        "df['genres'] = df['genres'].apply(convert)"
      ],
      "metadata": {
        "id": "HX9bxNPyk5Oc"
      },
      "execution_count": 160,
      "outputs": []
    },
    {
      "cell_type": "code",
      "source": [
        "df.iloc[0].genres"
      ],
      "metadata": {
        "colab": {
          "base_uri": "https://localhost:8080/"
        },
        "id": "t5_u84osIOwQ",
        "outputId": "71460a5b-465f-41ea-c822-64cde616598e"
      },
      "execution_count": 161,
      "outputs": [
        {
          "output_type": "execute_result",
          "data": {
            "text/plain": [
              "['Action', 'Adventure', 'Fantasy', 'Science Fiction']"
            ]
          },
          "metadata": {},
          "execution_count": 161
        }
      ]
    },
    {
      "cell_type": "code",
      "source": [
        "df['keywords'] = df['keywords'].apply(convert)"
      ],
      "metadata": {
        "id": "z6pdR-3zl4rg"
      },
      "execution_count": 162,
      "outputs": []
    },
    {
      "cell_type": "code",
      "source": [
        "df.iloc[5].keywords"
      ],
      "metadata": {
        "colab": {
          "base_uri": "https://localhost:8080/"
        },
        "id": "1aUC50yYISZ8",
        "outputId": "e7074c00-1469-4e39-d1b6-38b1bd8edfb9"
      },
      "execution_count": 163,
      "outputs": [
        {
          "output_type": "execute_result",
          "data": {
            "text/plain": [
              "['dual identity',\n",
              " 'amnesia',\n",
              " 'sandstorm',\n",
              " \"love of one's life\",\n",
              " 'forgiveness',\n",
              " 'spider',\n",
              " 'wretch',\n",
              " 'death of a friend',\n",
              " 'egomania',\n",
              " 'sand',\n",
              " 'narcism',\n",
              " 'hostility',\n",
              " 'marvel comic',\n",
              " 'sequel',\n",
              " 'superhero',\n",
              " 'revenge']"
            ]
          },
          "metadata": {},
          "execution_count": 163
        }
      ]
    },
    {
      "cell_type": "markdown",
      "source": [
        "# Now we will pick 3 names from cast and exclude all other unnecessary information in a list form."
      ],
      "metadata": {
        "id": "4LoKPlYkd1ps"
      }
    },
    {
      "cell_type": "code",
      "source": [
        "df['cast'][0]"
      ],
      "metadata": {
        "colab": {
          "base_uri": "https://localhost:8080/",
          "height": 191
        },
        "id": "rFEoc2C2dND6",
        "outputId": "04682015-e4a7-4366-e855-3745572b5219"
      },
      "execution_count": 164,
      "outputs": [
        {
          "output_type": "execute_result",
          "data": {
            "text/plain": [
              "'[{\"cast_id\": 242, \"character\": \"Jake Sully\", \"credit_id\": \"5602a8a7c3a3685532001c9a\", \"gender\": 2, \"id\": 65731, \"name\": \"Sam Worthington\", \"order\": 0}, {\"cast_id\": 3, \"character\": \"Neytiri\", \"credit_id\": \"52fe48009251416c750ac9cb\", \"gender\": 1, \"id\": 8691, \"name\": \"Zoe Saldana\", \"order\": 1}, {\"cast_id\": 25, \"character\": \"Dr. Grace Augustine\", \"credit_id\": \"52fe48009251416c750aca39\", \"gender\": 1, \"id\": 10205, \"name\": \"Sigourney Weaver\", \"order\": 2}, {\"cast_id\": 4, \"character\": \"Col. Quaritch\", \"credit_id\": \"52fe48009251416c750ac9cf\", \"gender\": 2, \"id\": 32747, \"name\": \"Stephen Lang\", \"order\": 3}, {\"cast_id\": 5, \"character\": \"Trudy Chacon\", \"credit_id\": \"52fe48009251416c750ac9d3\", \"gender\": 1, \"id\": 17647, \"name\": \"Michelle Rodriguez\", \"order\": 4}, {\"cast_id\": 8, \"character\": \"Selfridge\", \"credit_id\": \"52fe48009251416c750ac9e1\", \"gender\": 2, \"id\": 1771, \"name\": \"Giovanni Ribisi\", \"order\": 5}, {\"cast_id\": 7, \"character\": \"Norm Spellman\", \"credit_id\": \"52fe48009251416c750ac9dd\", \"gender\": 2, \"id\": 59231, \"name\": \"Joel David Moore\", \"order\": 6}, {\"cast_id\": 9, \"character\": \"Moat\", \"credit_id\": \"52fe48009251416c750ac9e5\", \"gender\": 1, \"id\": 30485, \"name\": \"CCH Pounder\", \"order\": 7}, {\"cast_id\": 11, \"character\": \"Eytukan\", \"credit_id\": \"52fe48009251416c750ac9ed\", \"gender\": 2, \"id\": 15853, \"name\": \"Wes Studi\", \"order\": 8}, {\"cast_id\": 10, \"character\": \"Tsu\\'Tey\", \"credit_id\": \"52fe48009251416c750ac9e9\", \"gender\": 2, \"id\": 10964, \"name\": \"Laz Alonso\", \"order\": 9}, {\"cast_id\": 12, \"character\": \"Dr. Max Patel\", \"credit_id\": \"52fe48009251416c750ac9f1\", \"gender\": 2, \"id\": 95697, \"name\": \"Dileep Rao\", \"order\": 10}, {\"cast_id\": 13, \"character\": \"Lyle Wainfleet\", \"credit_id\": \"52fe48009251416c750ac9f5\", \"gender\": 2, \"id\": 98215, \"name\": \"Matt Gerald\", \"order\": 11}, {\"cast_id\": 32, \"character\": \"Private Fike\", \"credit_id\": \"52fe48009251416c750aca5b\", \"gender\": 2, \"id\": 154153, \"name\": \"Sean Anthony Moran\", \"order\": 12}, {\"cast_id\": 33, \"character\": \"Cryo Vault Med Tech\", \"credit_id\": \"52fe48009251416c750aca5f\", \"gender\": 2, \"id\": 397312, \"name\": \"Jason Whyte\", \"order\": 13}, {\"cast_id\": 34, \"character\": \"Venture Star Crew Chief\", \"credit_id\": \"52fe48009251416c750aca63\", \"gender\": 2, \"id\": 42317, \"name\": \"Scott Lawrence\", \"order\": 14}, {\"cast_id\": 35, \"character\": \"Lock Up Trooper\", \"credit_id\": \"52fe48009251416c750aca67\", \"gender\": 2, \"id\": 986734, \"name\": \"Kelly Kilgour\", \"order\": 15}, {\"cast_id\": 36, \"character\": \"Shuttle Pilot\", \"credit_id\": \"52fe48009251416c750aca6b\", \"gender\": 0, \"id\": 1207227, \"name\": \"James Patrick Pitt\", \"order\": 16}, {\"cast_id\": 37, \"character\": \"Shuttle Co-Pilot\", \"credit_id\": \"52fe48009251416c750aca6f\", \"gender\": 0, \"id\": 1180936, \"name\": \"Sean Patrick Murphy\", \"order\": 17}, {\"cast_id\": 38, \"character\": \"Shuttle Crew Chief\", \"credit_id\": \"52fe48009251416c750aca73\", \"gender\": 2, \"id\": 1019578, \"name\": \"Peter Dillon\", \"order\": 18}, {\"cast_id\": 39, \"character\": \"Tractor Operator / Troupe\", \"credit_id\": \"52fe48009251416c750aca77\", \"gender\": 0, \"id\": 91443, \"name\": \"Kevin Dorman\", \"order\": 19}, {\"cast_id\": 40, \"character\": \"Dragon Gunship Pilot\", \"credit_id\": \"52fe48009251416c750aca7b\", \"gender\": 2, \"id\": 173391, \"name\": \"Kelson Henderson\", \"order\": 20}, {\"cast_id\": 41, \"character\": \"Dragon Gunship Gunner\", \"credit_id\": \"52fe48009251416c750aca7f\", \"gender\": 0, \"id\": 1207236, \"name\": \"David Van Horn\", \"order\": 21}, {\"cast_id\": 42, \"character\": \"Dragon Gunship Navigator\", \"credit_id\": \"52fe48009251416c750aca83\", \"gender\": 0, \"id\": 215913, \"name\": \"Jacob Tomuri\", \"order\": 22}, {\"cast_id\": 43, \"character\": \"Suit #1\", \"credit_id\": \"52fe48009251416c750aca87\", \"gender\": 0, \"id\": 143206, \"name\": \"Michael Blain-Rozgay\", \"order\": 23}, {\"cast_id\": 44, \"character\": \"Suit #2\", \"credit_id\": \"52fe48009251416c750aca8b\", \"gender\": 2, \"id\": 169676, \"name\": \"Jon Curry\", \"order\": 24}, {\"cast_id\": 46, \"character\": \"Ambient Room Tech\", \"credit_id\": \"52fe48009251416c750aca8f\", \"gender\": 0, \"id\": 1048610, \"name\": \"Luke Hawker\", \"order\": 25}, {\"cast_id\": 47, \"character\": \"Ambient Room Tech / Troupe\", \"credit_id\": \"52fe48009251416c750aca93\", \"gender\": 0, \"id\": 42288, \"name\": \"Woody Schultz\", \"order\": 26}, {\"cast_id\": 48, \"character\": \"Horse Clan Leader\", \"credit_id\": \"52fe48009251416c750aca97\", \"gender\": 2, \"id\": 68278, \"name\": \"Peter Mensah\", \"order\": 27}, {\"cast_id\": 49, \"character\": \"Link Room Tech\", \"credit_id\": \"52fe48009251416c750aca9b\", \"gender\": 0, \"id\": 1207247, \"name\": \"Sonia Yee\", \"order\": 28}, {\"cast_id\": 50, \"character\": \"Basketball Avatar / Troupe\", \"credit_id\": \"52fe48009251416c750aca9f\", \"gender\": 1, \"id\": 1207248, \"name\": \"Jahnel Curfman\", \"order\": 29}, {\"cast_id\": 51, \"character\": \"Basketball Avatar\", \"credit_id\": \"52fe48009251416c750acaa3\", \"gender\": 0, \"id\": 89714, \"name\": \"Ilram Choi\", \"order\": 30}, {\"cast_id\": 52, \"character\": \"Na\\'vi Child\", \"credit_id\": \"52fe48009251416c750acaa7\", \"gender\": 0, \"id\": 1207249, \"name\": \"Kyla Warren\", \"order\": 31}, {\"cast_id\": 53, \"character\": \"Troupe\", \"credit_id\": \"52fe48009251416c750acaab\", \"gender\": 0, \"id\": 1207250, \"name\": \"Lisa Roumain\", \"order\": 32}, {\"cast_id\": 54, \"character\": \"Troupe\", \"credit_id\": \"52fe48009251416c750acaaf\", \"gender\": 1, \"id\": 83105, \"name\": \"Debra Wilson\", \"order\": 33}, {\"cast_id\": 57, \"character\": \"Troupe\", \"credit_id\": \"52fe48009251416c750acabb\", \"gender\": 0, \"id\": 1207253, \"name\": \"Chris Mala\", \"order\": 34}, {\"cast_id\": 55, \"character\": \"Troupe\", \"credit_id\": \"52fe48009251416c750acab3\", \"gender\": 0, \"id\": 1207251, \"name\": \"Taylor Kibby\", \"order\": 35}, {\"cast_id\": 56, \"character\": \"Troupe\", \"credit_id\": \"52fe48009251416c750acab7\", \"gender\": 0, \"id\": 1207252, \"name\": \"Jodie Landau\", \"order\": 36}, {\"cast_id\": 58, \"character\": \"Troupe\", \"credit_id\": \"52fe48009251416c750acabf\", \"gender\": 0, \"id\": 1207254, \"name\": \"Julie Lamm\", \"order\": 37}, {\"cast_id\": 59, \"character\": \"Troupe\", \"credit_id\": \"52fe48009251416c750acac3\", \"gender\": 0, \"id\": 1207257, \"name\": \"Cullen B. Madden\", \"order\": 38}, {\"cast_id\": 60, \"character\": \"Troupe\", \"credit_id\": \"52fe48009251416c750acac7\", \"gender\": 0, \"id\": 1207259, \"name\": \"Joseph Brady Madden\", \"order\": 39}, {\"cast_id\": 61, \"character\": \"Troupe\", \"credit_id\": \"52fe48009251416c750acacb\", \"gender\": 0, \"id\": 1207262, \"name\": \"Frankie Torres\", \"order\": 40}, {\"cast_id\": 62, \"character\": \"Troupe\", \"credit_id\": \"52fe48009251416c750acacf\", \"gender\": 1, \"id\": 1158600, \"name\": \"Austin Wilson\", \"order\": 41}, {\"cast_id\": 63, \"character\": \"Troupe\", \"credit_id\": \"52fe48019251416c750acad3\", \"gender\": 1, \"id\": 983705, \"name\": \"Sara Wilson\", \"order\": 42}, {\"cast_id\": 64, \"character\": \"Troupe\", \"credit_id\": \"52fe48019251416c750acad7\", \"gender\": 0, \"id\": 1207263, \"name\": \"Tamica Washington-Miller\", \"order\": 43}, {\"cast_id\": 65, \"character\": \"Op Center Staff\", \"credit_id\": \"52fe48019251416c750acadb\", \"gender\": 1, \"id\": 1145098, \"name\": \"Lucy Briant\", \"order\": 44}, {\"cast_id\": 66, \"character\": \"Op Center Staff\", \"credit_id\": \"52fe48019251416c750acadf\", \"gender\": 2, \"id\": 33305, \"name\": \"Nathan Meister\", \"order\": 45}, {\"cast_id\": 67, \"character\": \"Op Center Staff\", \"credit_id\": \"52fe48019251416c750acae3\", \"gender\": 0, \"id\": 1207264, \"name\": \"Gerry Blair\", \"order\": 46}, {\"cast_id\": 68, \"character\": \"Op Center Staff\", \"credit_id\": \"52fe48019251416c750acae7\", \"gender\": 2, \"id\": 33311, \"name\": \"Matthew Chamberlain\", \"order\": 47}, {\"cast_id\": 69, \"character\": \"Op Center Staff\", \"credit_id\": \"52fe48019251416c750acaeb\", \"gender\": 0, \"id\": 1207265, \"name\": \"Paul Yates\", \"order\": 48}, {\"cast_id\": 70, \"character\": \"Op Center Duty Officer\", \"credit_id\": \"52fe48019251416c750acaef\", \"gender\": 0, \"id\": 1207266, \"name\": \"Wray Wilson\", \"order\": 49}, {\"cast_id\": 71, \"character\": \"Op Center Staff\", \"credit_id\": \"52fe48019251416c750acaf3\", \"gender\": 2, \"id\": 54492, \"name\": \"James Gaylyn\", \"order\": 50}, {\"cast_id\": 72, \"character\": \"Dancer\", \"credit_id\": \"52fe48019251416c750acaf7\", \"gender\": 0, \"id\": 1207267, \"name\": \"Melvin Leno Clark III\", \"order\": 51}, {\"cast_id\": 73, \"character\": \"Dancer\", \"credit_id\": \"52fe48019251416c750acafb\", \"gender\": 0, \"id\": 1207268, \"name\": \"Carvon Futrell\", \"order\": 52}, {\"cast_id\": 74, \"character\": \"Dancer\", \"credit_id\": \"52fe48019251416c750acaff\", \"gender\": 0, \"id\": 1207269, \"name\": \"Brandon Jelkes\", \"order\": 53}, {\"cast_id\": 75, \"character\": \"Dancer\", \"credit_id\": \"52fe48019251416c750acb03\", \"gender\": 0, \"id\": 1207270, \"name\": \"Micah Moch\", \"order\": 54}, {\"cast_id\": 76, \"character\": \"Dancer\", \"credit_id\": \"52fe48019251416c750acb07\", \"gender\": 0, \"id\": 1207271, \"name\": \"Hanniyah Muhammad\", \"order\": 55}, {\"cast_id\": 77, \"character\": \"Dancer\", \"credit_id\": \"52fe48019251416c750acb0b\", \"gender\": 0, \"id\": 1207272, \"name\": \"Christopher Nolen\", \"order\": 56}, {\"cast_id\": 78, \"character\": \"Dancer\", \"credit_id\": \"52fe48019251416c750acb0f\", \"gender\": 0, \"id\": 1207273, \"name\": \"Christa Oliver\", \"order\": 57}, {\"cast_id\": 79, \"character\": \"Dancer\", \"credit_id\": \"52fe48019251416c750acb13\", \"gender\": 0, \"id\": 1207274, \"name\": \"April Marie Thomas\", \"order\": 58}, {\"cast_id\": 80, \"character\": \"Dancer\", \"credit_id\": \"52fe48019251416c750acb17\", \"gender\": 0, \"id\": 1207275, \"name\": \"Bravita A. Threatt\", \"order\": 59}, {\"cast_id\": 81, \"character\": \"Mining Chief (uncredited)\", \"credit_id\": \"52fe48019251416c750acb1b\", \"gender\": 0, \"id\": 1207276, \"name\": \"Colin Bleasdale\", \"order\": 60}, {\"cast_id\": 82, \"character\": \"Veteran Miner (uncredited)\", \"credit_id\": \"52fe48019251416c750acb1f\", \"gender\": 0, \"id\": 107969, \"name\": \"Mike Bodnar\", \"order\": 61}, {\"cast_id\": 83, \"character\": \"Richard (uncredited)\", \"credit_id\": \"52fe48019251416c750acb23\", \"gender\": 0, \"id\": 1207278, \"name\": \"Matt Clayton\", \"order\": 62}, {\"cast_id\": 84, \"character\": \"Nav\\'i (uncredited)\", \"credit_id\": \"52fe48019251416c750acb27\", \"gender\": 1, \"id\": 147898, \"name\": \"Nicole Dionne\", \"order\": 63}, {\"cast_id\": 85, \"character\": \"Trooper (uncredited)\", \"credit_id\": \"52fe48019251416c750acb2b\", \"gender\": 0, \"id\": 1207280, \"name\": \"Jamie Harrison\", \"order\": 64}, {\"cast_id\": 86, \"character\": \"Trooper (uncredited)\", \"credit_id\": \"52fe48019251416c750acb2f\", \"gender\": 0, \"id\": 1207281, \"name\": \"Allan Henry\", \"order\": 65}, {\"cast_id\": 87, \"character\": \"Ground Technician (uncredited)\", \"credit_id\": \"52fe48019251416c750acb33\", \"gender\": 2, \"id\": 1207282, \"name\": \"Anthony Ingruber\", \"order\": 66}, {\"cast_id\": 88, \"character\": \"Flight Crew Mechanic (uncredited)\", \"credit_id\": \"52fe48019251416c750acb37\", \"gender\": 0, \"id\": 1207283, \"name\": \"Ashley Jeffery\", \"order\": 67}, {\"cast_id\": 14, \"character\": \"Samson Pilot\", \"credit_id\": \"52fe48009251416c750ac9f9\", \"gender\": 0, \"id\": 98216, \"name\": \"Dean Knowsley\", \"order\": 68}, {\"cast_id\": 89, \"character\": \"Trooper (uncredited)\", \"credit_id\": \"52fe48019251416c750acb3b\", \"gender\": 0, \"id\": 1201399, \"name\": \"Joseph Mika-Hunt\", \"order\": 69}, {\"cast_id\": 90, \"character\": \"Banshee (uncredited)\", \"credit_id\": \"52fe48019251416c750acb3f\", \"gender\": 0, \"id\": 236696, \"name\": \"Terry Notary\", \"order\": 70}, {\"cast_id\": 91, \"character\": \"Soldier (uncredited)\", \"credit_id\": \"52fe48019251416c750acb43\", \"gender\": 0, \"id\": 1207287, \"name\": \"Kai Pantano\", \"order\": 71}, {\"cast_id\": 92, \"character\": \"Blast Technician (uncredited)\", \"credit_id\": \"52fe48019251416c750acb47\", \"gender\": 0, \"id\": 1207288, \"name\": \"Logan Pithyou\", \"order\": 72}, {\"cast_id\": 93, \"character\": \"Vindum Raah (uncredited)\", \"credit_id\": \"52fe48019251416c750acb4b\", \"gender\": 0, \"id\": 1207289, \"name\": \"Stuart Pollock\", \"order\": 73}, {\"cast_id\": 94, \"character\": \"Hero (uncredited)\", \"credit_id\": \"52fe48019251416c750acb4f\", \"gender\": 0, \"id\": 584868, \"name\": \"Raja\", \"order\": 74}, {\"cast_id\": 95, \"character\": \"Ops Centreworker (uncredited)\", \"credit_id\": \"52fe48019251416c750acb53\", \"gender\": 0, \"id\": 1207290, \"name\": \"Gareth Ruck\", \"order\": 75}, {\"cast_id\": 96, \"character\": \"Engineer (uncredited)\", \"credit_id\": \"52fe48019251416c750acb57\", \"gender\": 0, \"id\": 1062463, \"name\": \"Rhian Sheehan\", \"order\": 76}, {\"cast_id\": 97, \"character\": \"Col. Quaritch\\'s Mech Suit (uncredited)\", \"credit_id\": \"52fe48019251416c750acb5b\", \"gender\": 0, \"id\": 60656, \"name\": \"T. J. Storm\", \"order\": 77}, {\"cast_id\": 98, \"character\": \"Female Marine (uncredited)\", \"credit_id\": \"52fe48019251416c750acb5f\", \"gender\": 0, \"id\": 1207291, \"name\": \"Jodie Taylor\", \"order\": 78}, {\"cast_id\": 99, \"character\": \"Ikran Clan Leader (uncredited)\", \"credit_id\": \"52fe48019251416c750acb63\", \"gender\": 1, \"id\": 1186027, \"name\": \"Alicia Vela-Bailey\", \"order\": 79}, {\"cast_id\": 100, \"character\": \"Geologist (uncredited)\", \"credit_id\": \"52fe48019251416c750acb67\", \"gender\": 0, \"id\": 1207292, \"name\": \"Richard Whiteside\", \"order\": 80}, {\"cast_id\": 101, \"character\": \"Na\\'vi (uncredited)\", \"credit_id\": \"52fe48019251416c750acb6b\", \"gender\": 0, \"id\": 103259, \"name\": \"Nikie Zambo\", \"order\": 81}, {\"cast_id\": 102, \"character\": \"Ambient Room Tech / Troupe\", \"credit_id\": \"52fe48019251416c750acb6f\", \"gender\": 1, \"id\": 42286, \"name\": \"Julene Renee\", \"order\": 82}]'"
            ],
            "application/vnd.google.colaboratory.intrinsic+json": {
              "type": "string"
            }
          },
          "metadata": {},
          "execution_count": 164
        }
      ]
    },
    {
      "cell_type": "code",
      "source": [
        "def convert3(obj):\n",
        "    l = []\n",
        "    counter = 0\n",
        "    for i in ast.literal_eval(obj):\n",
        "        if counter != 3:\n",
        "            l.append(i['name'])\n",
        "            counter += 1\n",
        "        else:\n",
        "            break\n",
        "    return l"
      ],
      "metadata": {
        "id": "-3VlTIv9eEGc"
      },
      "execution_count": 166,
      "outputs": []
    },
    {
      "cell_type": "code",
      "source": [
        "df['cast'] = df['cast'].apply(convert3)\n"
      ],
      "metadata": {
        "id": "9jxmFB2ShC9o"
      },
      "execution_count": 167,
      "outputs": []
    },
    {
      "cell_type": "code",
      "source": [
        "df['cast'][0:5]"
      ],
      "metadata": {
        "colab": {
          "base_uri": "https://localhost:8080/",
          "height": 240
        },
        "id": "TaZTQJq_sHp9",
        "outputId": "9b0849f2-d585-4888-ff24-72d793764453"
      },
      "execution_count": 168,
      "outputs": [
        {
          "output_type": "execute_result",
          "data": {
            "text/plain": [
              "0    [Sam Worthington, Zoe Saldana, Sigourney Weaver]\n",
              "1       [Johnny Depp, Orlando Bloom, Keira Knightley]\n",
              "2        [Daniel Craig, Christoph Waltz, Léa Seydoux]\n",
              "3        [Christian Bale, Michael Caine, Gary Oldman]\n",
              "4      [Taylor Kitsch, Lynn Collins, Samantha Morton]\n",
              "Name: cast, dtype: object"
            ],
            "text/html": [
              "<div>\n",
              "<style scoped>\n",
              "    .dataframe tbody tr th:only-of-type {\n",
              "        vertical-align: middle;\n",
              "    }\n",
              "\n",
              "    .dataframe tbody tr th {\n",
              "        vertical-align: top;\n",
              "    }\n",
              "\n",
              "    .dataframe thead th {\n",
              "        text-align: right;\n",
              "    }\n",
              "</style>\n",
              "<table border=\"1\" class=\"dataframe\">\n",
              "  <thead>\n",
              "    <tr style=\"text-align: right;\">\n",
              "      <th></th>\n",
              "      <th>cast</th>\n",
              "    </tr>\n",
              "  </thead>\n",
              "  <tbody>\n",
              "    <tr>\n",
              "      <th>0</th>\n",
              "      <td>[Sam Worthington, Zoe Saldana, Sigourney Weaver]</td>\n",
              "    </tr>\n",
              "    <tr>\n",
              "      <th>1</th>\n",
              "      <td>[Johnny Depp, Orlando Bloom, Keira Knightley]</td>\n",
              "    </tr>\n",
              "    <tr>\n",
              "      <th>2</th>\n",
              "      <td>[Daniel Craig, Christoph Waltz, Léa Seydoux]</td>\n",
              "    </tr>\n",
              "    <tr>\n",
              "      <th>3</th>\n",
              "      <td>[Christian Bale, Michael Caine, Gary Oldman]</td>\n",
              "    </tr>\n",
              "    <tr>\n",
              "      <th>4</th>\n",
              "      <td>[Taylor Kitsch, Lynn Collins, Samantha Morton]</td>\n",
              "    </tr>\n",
              "  </tbody>\n",
              "</table>\n",
              "</div><br><label><b>dtype:</b> object</label>"
            ]
          },
          "metadata": {},
          "execution_count": 168
        }
      ]
    },
    {
      "cell_type": "markdown",
      "source": [
        "# Now we will work on Crew\n",
        "extracting job only where it says 'Director' and excluding all other infromation to finally merge all columns with Overview"
      ],
      "metadata": {
        "id": "TVoKGznojz1E"
      }
    },
    {
      "cell_type": "code",
      "source": [
        "df['crew'][0]"
      ],
      "metadata": {
        "colab": {
          "base_uri": "https://localhost:8080/",
          "height": 191
        },
        "id": "uj6u1CqWjdMB",
        "outputId": "ba1d2faf-4995-4b2e-8cf8-a0d350ad7083"
      },
      "execution_count": 169,
      "outputs": [
        {
          "output_type": "execute_result",
          "data": {
            "text/plain": [
              "'[{\"credit_id\": \"52fe48009251416c750aca23\", \"department\": \"Editing\", \"gender\": 0, \"id\": 1721, \"job\": \"Editor\", \"name\": \"Stephen E. Rivkin\"}, {\"credit_id\": \"539c47ecc3a36810e3001f87\", \"department\": \"Art\", \"gender\": 2, \"id\": 496, \"job\": \"Production Design\", \"name\": \"Rick Carter\"}, {\"credit_id\": \"54491c89c3a3680fb4001cf7\", \"department\": \"Sound\", \"gender\": 0, \"id\": 900, \"job\": \"Sound Designer\", \"name\": \"Christopher Boyes\"}, {\"credit_id\": \"54491cb70e0a267480001bd0\", \"department\": \"Sound\", \"gender\": 0, \"id\": 900, \"job\": \"Supervising Sound Editor\", \"name\": \"Christopher Boyes\"}, {\"credit_id\": \"539c4a4cc3a36810c9002101\", \"department\": \"Production\", \"gender\": 1, \"id\": 1262, \"job\": \"Casting\", \"name\": \"Mali Finn\"}, {\"credit_id\": \"5544ee3b925141499f0008fc\", \"department\": \"Sound\", \"gender\": 2, \"id\": 1729, \"job\": \"Original Music Composer\", \"name\": \"James Horner\"}, {\"credit_id\": \"52fe48009251416c750ac9c3\", \"department\": \"Directing\", \"gender\": 2, \"id\": 2710, \"job\": \"Director\", \"name\": \"James Cameron\"}, {\"credit_id\": \"52fe48009251416c750ac9d9\", \"department\": \"Writing\", \"gender\": 2, \"id\": 2710, \"job\": \"Writer\", \"name\": \"James Cameron\"}, {\"credit_id\": \"52fe48009251416c750aca17\", \"department\": \"Editing\", \"gender\": 2, \"id\": 2710, \"job\": \"Editor\", \"name\": \"James Cameron\"}, {\"credit_id\": \"52fe48009251416c750aca29\", \"department\": \"Production\", \"gender\": 2, \"id\": 2710, \"job\": \"Producer\", \"name\": \"James Cameron\"}, {\"credit_id\": \"52fe48009251416c750aca3f\", \"department\": \"Writing\", \"gender\": 2, \"id\": 2710, \"job\": \"Screenplay\", \"name\": \"James Cameron\"}, {\"credit_id\": \"539c4987c3a36810ba0021a4\", \"department\": \"Art\", \"gender\": 2, \"id\": 7236, \"job\": \"Art Direction\", \"name\": \"Andrew Menzies\"}, {\"credit_id\": \"549598c3c3a3686ae9004383\", \"department\": \"Visual Effects\", \"gender\": 0, \"id\": 6690, \"job\": \"Visual Effects Producer\", \"name\": \"Jill Brooks\"}, {\"credit_id\": \"52fe48009251416c750aca4b\", \"department\": \"Production\", \"gender\": 1, \"id\": 6347, \"job\": \"Casting\", \"name\": \"Margery Simkin\"}, {\"credit_id\": \"570b6f419251417da70032fe\", \"department\": \"Art\", \"gender\": 2, \"id\": 6878, \"job\": \"Supervising Art Director\", \"name\": \"Kevin Ishioka\"}, {\"credit_id\": \"5495a0fac3a3686ae9004468\", \"department\": \"Sound\", \"gender\": 0, \"id\": 6883, \"job\": \"Music Editor\", \"name\": \"Dick Bernstein\"}, {\"credit_id\": \"54959706c3a3686af3003e81\", \"department\": \"Sound\", \"gender\": 0, \"id\": 8159, \"job\": \"Sound Effects Editor\", \"name\": \"Shannon Mills\"}, {\"credit_id\": \"54491d58c3a3680fb1001ccb\", \"department\": \"Sound\", \"gender\": 0, \"id\": 8160, \"job\": \"Foley\", \"name\": \"Dennie Thorpe\"}, {\"credit_id\": \"54491d6cc3a3680fa5001b2c\", \"department\": \"Sound\", \"gender\": 0, \"id\": 8163, \"job\": \"Foley\", \"name\": \"Jana Vance\"}, {\"credit_id\": \"52fe48009251416c750aca57\", \"department\": \"Costume & Make-Up\", \"gender\": 1, \"id\": 8527, \"job\": \"Costume Design\", \"name\": \"Deborah Lynn Scott\"}, {\"credit_id\": \"52fe48009251416c750aca2f\", \"department\": \"Production\", \"gender\": 2, \"id\": 8529, \"job\": \"Producer\", \"name\": \"Jon Landau\"}, {\"credit_id\": \"539c4937c3a36810ba002194\", \"department\": \"Art\", \"gender\": 0, \"id\": 9618, \"job\": \"Art Direction\", \"name\": \"Sean Haworth\"}, {\"credit_id\": \"539c49b6c3a36810c10020e6\", \"department\": \"Art\", \"gender\": 1, \"id\": 12653, \"job\": \"Set Decoration\", \"name\": \"Kim Sinclair\"}, {\"credit_id\": \"570b6f2f9251413a0e00020d\", \"department\": \"Art\", \"gender\": 1, \"id\": 12653, \"job\": \"Supervising Art Director\", \"name\": \"Kim Sinclair\"}, {\"credit_id\": \"54491a6c0e0a26748c001b19\", \"department\": \"Art\", \"gender\": 2, \"id\": 14350, \"job\": \"Set Designer\", \"name\": \"Richard F. Mays\"}, {\"credit_id\": \"56928cf4c3a3684cff0025c4\", \"department\": \"Production\", \"gender\": 1, \"id\": 20294, \"job\": \"Executive Producer\", \"name\": \"Laeta Kalogridis\"}, {\"credit_id\": \"52fe48009251416c750aca51\", \"department\": \"Costume & Make-Up\", \"gender\": 0, \"id\": 17675, \"job\": \"Costume Design\", \"name\": \"Mayes C. Rubeo\"}, {\"credit_id\": \"52fe48009251416c750aca11\", \"department\": \"Camera\", \"gender\": 2, \"id\": 18265, \"job\": \"Director of Photography\", \"name\": \"Mauro Fiore\"}, {\"credit_id\": \"5449194d0e0a26748f001b39\", \"department\": \"Art\", \"gender\": 0, \"id\": 42281, \"job\": \"Set Designer\", \"name\": \"Scott Herbertson\"}, {\"credit_id\": \"52fe48009251416c750aca05\", \"department\": \"Crew\", \"gender\": 0, \"id\": 42288, \"job\": \"Stunts\", \"name\": \"Woody Schultz\"}, {\"credit_id\": \"5592aefb92514152de0010f5\", \"department\": \"Costume & Make-Up\", \"gender\": 0, \"id\": 29067, \"job\": \"Makeup Artist\", \"name\": \"Linda DeVetta\"}, {\"credit_id\": \"5592afa492514152de00112c\", \"department\": \"Costume & Make-Up\", \"gender\": 0, \"id\": 29067, \"job\": \"Hairstylist\", \"name\": \"Linda DeVetta\"}, {\"credit_id\": \"54959ed592514130fc002e5d\", \"department\": \"Camera\", \"gender\": 2, \"id\": 33302, \"job\": \"Camera Operator\", \"name\": \"Richard Bluck\"}, {\"credit_id\": \"539c4891c3a36810ba002147\", \"department\": \"Art\", \"gender\": 2, \"id\": 33303, \"job\": \"Art Direction\", \"name\": \"Simon Bright\"}, {\"credit_id\": \"54959c069251417a81001f3a\", \"department\": \"Visual Effects\", \"gender\": 0, \"id\": 113145, \"job\": \"Visual Effects Supervisor\", \"name\": \"Richard Martin\"}, {\"credit_id\": \"54959a0dc3a3680ff5002c8d\", \"department\": \"Crew\", \"gender\": 2, \"id\": 58188, \"job\": \"Visual Effects Editor\", \"name\": \"Steve R. Moore\"}, {\"credit_id\": \"52fe48009251416c750aca1d\", \"department\": \"Editing\", \"gender\": 2, \"id\": 58871, \"job\": \"Editor\", \"name\": \"John Refoua\"}, {\"credit_id\": \"54491a4dc3a3680fc30018ca\", \"department\": \"Art\", \"gender\": 0, \"id\": 92359, \"job\": \"Set Designer\", \"name\": \"Karl J. Martin\"}, {\"credit_id\": \"52fe48009251416c750aca35\", \"department\": \"Camera\", \"gender\": 1, \"id\": 72201, \"job\": \"Director of Photography\", \"name\": \"Chiling Lin\"}, {\"credit_id\": \"52fe48009251416c750ac9ff\", \"department\": \"Crew\", \"gender\": 0, \"id\": 89714, \"job\": \"Stunts\", \"name\": \"Ilram Choi\"}, {\"credit_id\": \"54959c529251416e2b004394\", \"department\": \"Visual Effects\", \"gender\": 2, \"id\": 93214, \"job\": \"Visual Effects Supervisor\", \"name\": \"Steven Quale\"}, {\"credit_id\": \"54491edf0e0a267489001c37\", \"department\": \"Crew\", \"gender\": 1, \"id\": 122607, \"job\": \"Dialect Coach\", \"name\": \"Carla Meyer\"}, {\"credit_id\": \"539c485bc3a368653d001a3a\", \"department\": \"Art\", \"gender\": 2, \"id\": 132585, \"job\": \"Art Direction\", \"name\": \"Nick Bassett\"}, {\"credit_id\": \"539c4903c3a368653d001a74\", \"department\": \"Art\", \"gender\": 0, \"id\": 132596, \"job\": \"Art Direction\", \"name\": \"Jill Cormack\"}, {\"credit_id\": \"539c4967c3a368653d001a94\", \"department\": \"Art\", \"gender\": 0, \"id\": 132604, \"job\": \"Art Direction\", \"name\": \"Andy McLaren\"}, {\"credit_id\": \"52fe48009251416c750aca45\", \"department\": \"Crew\", \"gender\": 0, \"id\": 236696, \"job\": \"Motion Capture Artist\", \"name\": \"Terry Notary\"}, {\"credit_id\": \"54959e02c3a3680fc60027d2\", \"department\": \"Crew\", \"gender\": 2, \"id\": 956198, \"job\": \"Stunt Coordinator\", \"name\": \"Garrett Warren\"}, {\"credit_id\": \"54959ca3c3a3686ae300438c\", \"department\": \"Visual Effects\", \"gender\": 2, \"id\": 957874, \"job\": \"Visual Effects Supervisor\", \"name\": \"Jonathan Rothbart\"}, {\"credit_id\": \"570b6f519251412c74001b2f\", \"department\": \"Art\", \"gender\": 0, \"id\": 957889, \"job\": \"Supervising Art Director\", \"name\": \"Stefan Dechant\"}, {\"credit_id\": \"570b6f62c3a3680b77007460\", \"department\": \"Art\", \"gender\": 2, \"id\": 959555, \"job\": \"Supervising Art Director\", \"name\": \"Todd Cherniawsky\"}, {\"credit_id\": \"539c4a3ac3a36810da0021cc\", \"department\": \"Production\", \"gender\": 0, \"id\": 1016177, \"job\": \"Casting\", \"name\": \"Miranda Rivers\"}, {\"credit_id\": \"539c482cc3a36810c1002062\", \"department\": \"Art\", \"gender\": 0, \"id\": 1032536, \"job\": \"Production Design\", \"name\": \"Robert Stromberg\"}, {\"credit_id\": \"539c4b65c3a36810c9002125\", \"department\": \"Costume & Make-Up\", \"gender\": 2, \"id\": 1071680, \"job\": \"Costume Design\", \"name\": \"John Harding\"}, {\"credit_id\": \"54959e6692514130fc002e4e\", \"department\": \"Camera\", \"gender\": 0, \"id\": 1177364, \"job\": \"Steadicam Operator\", \"name\": \"Roberto De Angelis\"}, {\"credit_id\": \"539c49f1c3a368653d001aac\", \"department\": \"Costume & Make-Up\", \"gender\": 2, \"id\": 1202850, \"job\": \"Makeup Department Head\", \"name\": \"Mike Smithson\"}, {\"credit_id\": \"5495999ec3a3686ae100460c\", \"department\": \"Visual Effects\", \"gender\": 0, \"id\": 1204668, \"job\": \"Visual Effects Producer\", \"name\": \"Alain Lalanne\"}, {\"credit_id\": \"54959cdfc3a3681153002729\", \"department\": \"Visual Effects\", \"gender\": 0, \"id\": 1206410, \"job\": \"Visual Effects Supervisor\", \"name\": \"Lucas Salton\"}, {\"credit_id\": \"549596239251417a81001eae\", \"department\": \"Crew\", \"gender\": 0, \"id\": 1234266, \"job\": \"Post Production Supervisor\", \"name\": \"Janace Tashjian\"}, {\"credit_id\": \"54959c859251416e1e003efe\", \"department\": \"Visual Effects\", \"gender\": 0, \"id\": 1271932, \"job\": \"Visual Effects Supervisor\", \"name\": \"Stephen Rosenbaum\"}, {\"credit_id\": \"5592af28c3a368775a00105f\", \"department\": \"Costume & Make-Up\", \"gender\": 0, \"id\": 1310064, \"job\": \"Makeup Artist\", \"name\": \"Frankie Karena\"}, {\"credit_id\": \"539c4adfc3a36810e300203b\", \"department\": \"Costume & Make-Up\", \"gender\": 1, \"id\": 1319844, \"job\": \"Costume Supervisor\", \"name\": \"Lisa Lovaas\"}, {\"credit_id\": \"54959b579251416e2b004371\", \"department\": \"Visual Effects\", \"gender\": 0, \"id\": 1327028, \"job\": \"Visual Effects Supervisor\", \"name\": \"Jonathan Fawkner\"}, {\"credit_id\": \"539c48a7c3a36810b5001fa7\", \"department\": \"Art\", \"gender\": 0, \"id\": 1330561, \"job\": \"Art Direction\", \"name\": \"Robert Bavin\"}, {\"credit_id\": \"539c4a71c3a36810da0021e0\", \"department\": \"Costume & Make-Up\", \"gender\": 0, \"id\": 1330567, \"job\": \"Costume Supervisor\", \"name\": \"Anthony Almaraz\"}, {\"credit_id\": \"539c4a8ac3a36810ba0021e4\", \"department\": \"Costume & Make-Up\", \"gender\": 0, \"id\": 1330570, \"job\": \"Costume Supervisor\", \"name\": \"Carolyn M. Fenton\"}, {\"credit_id\": \"539c4ab6c3a36810da0021f0\", \"department\": \"Costume & Make-Up\", \"gender\": 0, \"id\": 1330574, \"job\": \"Costume Supervisor\", \"name\": \"Beth Koenigsberg\"}, {\"credit_id\": \"54491ab70e0a267480001ba2\", \"department\": \"Art\", \"gender\": 0, \"id\": 1336191, \"job\": \"Set Designer\", \"name\": \"Sam Page\"}, {\"credit_id\": \"544919d9c3a3680fc30018bd\", \"department\": \"Art\", \"gender\": 0, \"id\": 1339441, \"job\": \"Set Designer\", \"name\": \"Tex Kadonaga\"}, {\"credit_id\": \"54491cf50e0a267483001b0c\", \"department\": \"Editing\", \"gender\": 0, \"id\": 1352422, \"job\": \"Dialogue Editor\", \"name\": \"Kim Foscato\"}, {\"credit_id\": \"544919f40e0a26748c001b09\", \"department\": \"Art\", \"gender\": 0, \"id\": 1352962, \"job\": \"Set Designer\", \"name\": \"Tammy S. Lee\"}, {\"credit_id\": \"5495a115c3a3680ff5002d71\", \"department\": \"Crew\", \"gender\": 0, \"id\": 1357070, \"job\": \"Transportation Coordinator\", \"name\": \"Denny Caira\"}, {\"credit_id\": \"5495a12f92514130fc002e94\", \"department\": \"Crew\", \"gender\": 0, \"id\": 1357071, \"job\": \"Transportation Coordinator\", \"name\": \"James Waitkus\"}, {\"credit_id\": \"5495976fc3a36811530026b0\", \"department\": \"Sound\", \"gender\": 0, \"id\": 1360103, \"job\": \"Supervising Sound Editor\", \"name\": \"Addison Teague\"}, {\"credit_id\": \"54491837c3a3680fb1001c5a\", \"department\": \"Art\", \"gender\": 2, \"id\": 1376887, \"job\": \"Set Designer\", \"name\": \"C. Scott Baker\"}, {\"credit_id\": \"54491878c3a3680fb4001c9d\", \"department\": \"Art\", \"gender\": 0, \"id\": 1376888, \"job\": \"Set Designer\", \"name\": \"Luke Caska\"}, {\"credit_id\": \"544918dac3a3680fa5001ae0\", \"department\": \"Art\", \"gender\": 0, \"id\": 1376889, \"job\": \"Set Designer\", \"name\": \"David Chow\"}, {\"credit_id\": \"544919110e0a267486001b68\", \"department\": \"Art\", \"gender\": 0, \"id\": 1376890, \"job\": \"Set Designer\", \"name\": \"Jonathan Dyer\"}, {\"credit_id\": \"54491967c3a3680faa001b5e\", \"department\": \"Art\", \"gender\": 0, \"id\": 1376891, \"job\": \"Set Designer\", \"name\": \"Joseph Hiura\"}, {\"credit_id\": \"54491997c3a3680fb1001c8a\", \"department\": \"Art\", \"gender\": 0, \"id\": 1376892, \"job\": \"Art Department Coordinator\", \"name\": \"Rebecca Jellie\"}, {\"credit_id\": \"544919ba0e0a26748f001b42\", \"department\": \"Art\", \"gender\": 0, \"id\": 1376893, \"job\": \"Set Designer\", \"name\": \"Robert Andrew Johnson\"}, {\"credit_id\": \"54491b1dc3a3680faa001b8c\", \"department\": \"Art\", \"gender\": 0, \"id\": 1376895, \"job\": \"Assistant Art Director\", \"name\": \"Mike Stassi\"}, {\"credit_id\": \"54491b79c3a3680fbb001826\", \"department\": \"Art\", \"gender\": 0, \"id\": 1376897, \"job\": \"Construction Coordinator\", \"name\": \"John Villarino\"}, {\"credit_id\": \"54491baec3a3680fb4001ce6\", \"department\": \"Art\", \"gender\": 2, \"id\": 1376898, \"job\": \"Assistant Art Director\", \"name\": \"Jeffrey Wisniewski\"}, {\"credit_id\": \"54491d2fc3a3680fb4001d07\", \"department\": \"Editing\", \"gender\": 0, \"id\": 1376899, \"job\": \"Dialogue Editor\", \"name\": \"Cheryl Nardi\"}, {\"credit_id\": \"54491d86c3a3680fa5001b2f\", \"department\": \"Editing\", \"gender\": 0, \"id\": 1376901, \"job\": \"Dialogue Editor\", \"name\": \"Marshall Winn\"}, {\"credit_id\": \"54491d9dc3a3680faa001bb0\", \"department\": \"Sound\", \"gender\": 0, \"id\": 1376902, \"job\": \"Supervising Sound Editor\", \"name\": \"Gwendolyn Yates Whittle\"}, {\"credit_id\": \"54491dc10e0a267486001bce\", \"department\": \"Sound\", \"gender\": 0, \"id\": 1376903, \"job\": \"Sound Re-Recording Mixer\", \"name\": \"William Stein\"}, {\"credit_id\": \"54491f500e0a26747c001c07\", \"department\": \"Crew\", \"gender\": 0, \"id\": 1376909, \"job\": \"Choreographer\", \"name\": \"Lula Washington\"}, {\"credit_id\": \"549599239251412c4e002a2e\", \"department\": \"Visual Effects\", \"gender\": 0, \"id\": 1391692, \"job\": \"Visual Effects Producer\", \"name\": \"Chris Del Conte\"}, {\"credit_id\": \"54959d54c3a36831b8001d9a\", \"department\": \"Visual Effects\", \"gender\": 2, \"id\": 1391695, \"job\": \"Visual Effects Supervisor\", \"name\": \"R. Christopher White\"}, {\"credit_id\": \"54959bdf9251412c4e002a66\", \"department\": \"Visual Effects\", \"gender\": 0, \"id\": 1394070, \"job\": \"Visual Effects Supervisor\", \"name\": \"Dan Lemmon\"}, {\"credit_id\": \"5495971d92514132ed002922\", \"department\": \"Sound\", \"gender\": 0, \"id\": 1394129, \"job\": \"Sound Effects Editor\", \"name\": \"Tim Nielsen\"}, {\"credit_id\": \"5592b25792514152cc0011aa\", \"department\": \"Crew\", \"gender\": 0, \"id\": 1394286, \"job\": \"CG Supervisor\", \"name\": \"Michael Mulholland\"}, {\"credit_id\": \"54959a329251416e2b004355\", \"department\": \"Crew\", \"gender\": 0, \"id\": 1394750, \"job\": \"Visual Effects Editor\", \"name\": \"Thomas Nittmann\"}, {\"credit_id\": \"54959d6dc3a3686ae9004401\", \"department\": \"Visual Effects\", \"gender\": 0, \"id\": 1394755, \"job\": \"Visual Effects Supervisor\", \"name\": \"Edson Williams\"}, {\"credit_id\": \"5495a08fc3a3686ae300441c\", \"department\": \"Editing\", \"gender\": 0, \"id\": 1394953, \"job\": \"Digital Intermediate\", \"name\": \"Christine Carr\"}, {\"credit_id\": \"55402d659251413d6d000249\", \"department\": \"Visual Effects\", \"gender\": 0, \"id\": 1395269, \"job\": \"Visual Effects Supervisor\", \"name\": \"John Bruno\"}, {\"credit_id\": \"54959e7b9251416e1e003f3e\", \"department\": \"Camera\", \"gender\": 0, \"id\": 1398970, \"job\": \"Steadicam Operator\", \"name\": \"David Emmerichs\"}, {\"credit_id\": \"54959734c3a3686ae10045e0\", \"department\": \"Sound\", \"gender\": 0, \"id\": 1400906, \"job\": \"Sound Effects Editor\", \"name\": \"Christopher Scarabosio\"}, {\"credit_id\": \"549595dd92514130fc002d79\", \"department\": \"Production\", \"gender\": 0, \"id\": 1401784, \"job\": \"Production Supervisor\", \"name\": \"Jennifer Teves\"}, {\"credit_id\": \"549596009251413af70028cc\", \"department\": \"Production\", \"gender\": 0, \"id\": 1401785, \"job\": \"Production Manager\", \"name\": \"Brigitte Yorke\"}, {\"credit_id\": \"549596e892514130fc002d99\", \"department\": \"Sound\", \"gender\": 0, \"id\": 1401786, \"job\": \"Sound Effects Editor\", \"name\": \"Ken Fischer\"}, {\"credit_id\": \"549598229251412c4e002a1c\", \"department\": \"Crew\", \"gender\": 0, \"id\": 1401787, \"job\": \"Special Effects Coordinator\", \"name\": \"Iain Hutton\"}, {\"credit_id\": \"549598349251416e2b00432b\", \"department\": \"Crew\", \"gender\": 0, \"id\": 1401788, \"job\": \"Special Effects Coordinator\", \"name\": \"Steve Ingram\"}, {\"credit_id\": \"54959905c3a3686ae3004324\", \"department\": \"Visual Effects\", \"gender\": 0, \"id\": 1401789, \"job\": \"Visual Effects Producer\", \"name\": \"Joyce Cox\"}, {\"credit_id\": \"5495994b92514132ed002951\", \"department\": \"Visual Effects\", \"gender\": 0, \"id\": 1401790, \"job\": \"Visual Effects Producer\", \"name\": \"Jenny Foster\"}, {\"credit_id\": \"549599cbc3a3686ae1004613\", \"department\": \"Crew\", \"gender\": 0, \"id\": 1401791, \"job\": \"Visual Effects Editor\", \"name\": \"Christopher Marino\"}, {\"credit_id\": \"549599f2c3a3686ae100461e\", \"department\": \"Crew\", \"gender\": 0, \"id\": 1401792, \"job\": \"Visual Effects Editor\", \"name\": \"Jim Milton\"}, {\"credit_id\": \"54959a51c3a3686af3003eb5\", \"department\": \"Visual Effects\", \"gender\": 0, \"id\": 1401793, \"job\": \"Visual Effects Producer\", \"name\": \"Cyndi Ochs\"}, {\"credit_id\": \"54959a7cc3a36811530026f4\", \"department\": \"Crew\", \"gender\": 0, \"id\": 1401794, \"job\": \"Visual Effects Editor\", \"name\": \"Lucas Putnam\"}, {\"credit_id\": \"54959b91c3a3680ff5002cb4\", \"department\": \"Visual Effects\", \"gender\": 0, \"id\": 1401795, \"job\": \"Visual Effects Supervisor\", \"name\": \"Anthony \\'Max\\' Ivins\"}, {\"credit_id\": \"54959bb69251412c4e002a5f\", \"department\": \"Visual Effects\", \"gender\": 0, \"id\": 1401796, \"job\": \"Visual Effects Supervisor\", \"name\": \"John Knoll\"}, {\"credit_id\": \"54959cbbc3a3686ae3004391\", \"department\": \"Visual Effects\", \"gender\": 2, \"id\": 1401799, \"job\": \"Visual Effects Supervisor\", \"name\": \"Eric Saindon\"}, {\"credit_id\": \"54959d06c3a3686ae90043f6\", \"department\": \"Visual Effects\", \"gender\": 0, \"id\": 1401800, \"job\": \"Visual Effects Supervisor\", \"name\": \"Wayne Stables\"}, {\"credit_id\": \"54959d259251416e1e003f11\", \"department\": \"Visual Effects\", \"gender\": 0, \"id\": 1401801, \"job\": \"Visual Effects Supervisor\", \"name\": \"David Stinnett\"}, {\"credit_id\": \"54959db49251413af7002975\", \"department\": \"Visual Effects\", \"gender\": 0, \"id\": 1401803, \"job\": \"Visual Effects Supervisor\", \"name\": \"Guy Williams\"}, {\"credit_id\": \"54959de4c3a3681153002750\", \"department\": \"Crew\", \"gender\": 0, \"id\": 1401804, \"job\": \"Stunt Coordinator\", \"name\": \"Stuart Thorp\"}, {\"credit_id\": \"54959ef2c3a3680fc60027f2\", \"department\": \"Lighting\", \"gender\": 0, \"id\": 1401805, \"job\": \"Best Boy Electric\", \"name\": \"Giles Coburn\"}, {\"credit_id\": \"54959f07c3a3680fc60027f9\", \"department\": \"Camera\", \"gender\": 2, \"id\": 1401806, \"job\": \"Still Photographer\", \"name\": \"Mark Fellman\"}, {\"credit_id\": \"54959f47c3a3681153002774\", \"department\": \"Lighting\", \"gender\": 0, \"id\": 1401807, \"job\": \"Lighting Technician\", \"name\": \"Scott Sprague\"}, {\"credit_id\": \"54959f8cc3a36831b8001df2\", \"department\": \"Visual Effects\", \"gender\": 0, \"id\": 1401808, \"job\": \"Animation Director\", \"name\": \"Jeremy Hollobon\"}, {\"credit_id\": \"54959fa0c3a36831b8001dfb\", \"department\": \"Visual Effects\", \"gender\": 0, \"id\": 1401809, \"job\": \"Animation Director\", \"name\": \"Orlando Meunier\"}, {\"credit_id\": \"54959fb6c3a3686af3003f54\", \"department\": \"Visual Effects\", \"gender\": 0, \"id\": 1401810, \"job\": \"Animation Director\", \"name\": \"Taisuke Tanimura\"}, {\"credit_id\": \"54959fd2c3a36831b8001e02\", \"department\": \"Costume & Make-Up\", \"gender\": 0, \"id\": 1401812, \"job\": \"Set Costumer\", \"name\": \"Lilia Mishel Acevedo\"}, {\"credit_id\": \"54959ff9c3a3686ae300440c\", \"department\": \"Costume & Make-Up\", \"gender\": 0, \"id\": 1401814, \"job\": \"Set Costumer\", \"name\": \"Alejandro M. Hernandez\"}, {\"credit_id\": \"5495a0ddc3a3686ae10046fe\", \"department\": \"Editing\", \"gender\": 0, \"id\": 1401815, \"job\": \"Digital Intermediate\", \"name\": \"Marvin Hall\"}, {\"credit_id\": \"5495a1f7c3a3686ae3004443\", \"department\": \"Production\", \"gender\": 0, \"id\": 1401816, \"job\": \"Publicist\", \"name\": \"Judy Alley\"}, {\"credit_id\": \"5592b29fc3a36869d100002f\", \"department\": \"Crew\", \"gender\": 0, \"id\": 1418381, \"job\": \"CG Supervisor\", \"name\": \"Mike Perry\"}, {\"credit_id\": \"5592b23a9251415df8001081\", \"department\": \"Crew\", \"gender\": 0, \"id\": 1426854, \"job\": \"CG Supervisor\", \"name\": \"Andrew Morley\"}, {\"credit_id\": \"55491e1192514104c40002d8\", \"department\": \"Art\", \"gender\": 0, \"id\": 1438901, \"job\": \"Conceptual Design\", \"name\": \"Seth Engstrom\"}, {\"credit_id\": \"5525d5809251417276002b06\", \"department\": \"Crew\", \"gender\": 0, \"id\": 1447362, \"job\": \"Visual Effects Art Director\", \"name\": \"Eric Oliver\"}, {\"credit_id\": \"554427ca925141586500312a\", \"department\": \"Visual Effects\", \"gender\": 0, \"id\": 1447503, \"job\": \"Modeling\", \"name\": \"Matsune Suzuki\"}, {\"credit_id\": \"551906889251415aab001c88\", \"department\": \"Art\", \"gender\": 0, \"id\": 1447524, \"job\": \"Art Department Manager\", \"name\": \"Paul Tobin\"}, {\"credit_id\": \"5592af8492514152cc0010de\", \"department\": \"Costume & Make-Up\", \"gender\": 0, \"id\": 1452643, \"job\": \"Hairstylist\", \"name\": \"Roxane Griffin\"}, {\"credit_id\": \"553d3c109251415852001318\", \"department\": \"Lighting\", \"gender\": 0, \"id\": 1453938, \"job\": \"Lighting Artist\", \"name\": \"Arun Ram-Mohan\"}, {\"credit_id\": \"5592af4692514152d5001355\", \"department\": \"Costume & Make-Up\", \"gender\": 0, \"id\": 1457305, \"job\": \"Makeup Artist\", \"name\": \"Georgia Lockhart-Adams\"}, {\"credit_id\": \"5592b2eac3a36877470012a5\", \"department\": \"Crew\", \"gender\": 0, \"id\": 1466035, \"job\": \"CG Supervisor\", \"name\": \"Thrain Shadbolt\"}, {\"credit_id\": \"5592b032c3a36877450015f1\", \"department\": \"Crew\", \"gender\": 0, \"id\": 1483220, \"job\": \"CG Supervisor\", \"name\": \"Brad Alexander\"}, {\"credit_id\": \"5592b05592514152d80012f6\", \"department\": \"Crew\", \"gender\": 0, \"id\": 1483221, \"job\": \"CG Supervisor\", \"name\": \"Shadi Almassizadeh\"}, {\"credit_id\": \"5592b090c3a36877570010b5\", \"department\": \"Crew\", \"gender\": 0, \"id\": 1483222, \"job\": \"CG Supervisor\", \"name\": \"Simon Clutterbuck\"}, {\"credit_id\": \"5592b0dbc3a368774b00112c\", \"department\": \"Crew\", \"gender\": 0, \"id\": 1483223, \"job\": \"CG Supervisor\", \"name\": \"Graeme Demmocks\"}, {\"credit_id\": \"5592b0fe92514152db0010c1\", \"department\": \"Crew\", \"gender\": 0, \"id\": 1483224, \"job\": \"CG Supervisor\", \"name\": \"Adrian Fernandes\"}, {\"credit_id\": \"5592b11f9251415df8001059\", \"department\": \"Crew\", \"gender\": 0, \"id\": 1483225, \"job\": \"CG Supervisor\", \"name\": \"Mitch Gates\"}, {\"credit_id\": \"5592b15dc3a3687745001645\", \"department\": \"Crew\", \"gender\": 0, \"id\": 1483226, \"job\": \"CG Supervisor\", \"name\": \"Jerry Kung\"}, {\"credit_id\": \"5592b18e925141645a0004ae\", \"department\": \"Crew\", \"gender\": 0, \"id\": 1483227, \"job\": \"CG Supervisor\", \"name\": \"Andy Lomas\"}, {\"credit_id\": \"5592b1bfc3a368775d0010e7\", \"department\": \"Crew\", \"gender\": 0, \"id\": 1483228, \"job\": \"CG Supervisor\", \"name\": \"Sebastian Marino\"}, {\"credit_id\": \"5592b2049251415df8001078\", \"department\": \"Crew\", \"gender\": 0, \"id\": 1483229, \"job\": \"CG Supervisor\", \"name\": \"Matthias Menz\"}, {\"credit_id\": \"5592b27b92514152d800136a\", \"department\": \"Crew\", \"gender\": 0, \"id\": 1483230, \"job\": \"CG Supervisor\", \"name\": \"Sergei Nevshupov\"}, {\"credit_id\": \"5592b2c3c3a36869e800003c\", \"department\": \"Crew\", \"gender\": 0, \"id\": 1483231, \"job\": \"CG Supervisor\", \"name\": \"Philippe Rebours\"}, {\"credit_id\": \"5592b317c3a36877470012af\", \"department\": \"Crew\", \"gender\": 0, \"id\": 1483232, \"job\": \"CG Supervisor\", \"name\": \"Michael Takarangi\"}, {\"credit_id\": \"5592b345c3a36877470012bb\", \"department\": \"Crew\", \"gender\": 0, \"id\": 1483233, \"job\": \"CG Supervisor\", \"name\": \"David Weitzberg\"}, {\"credit_id\": \"5592b37cc3a368775100113b\", \"department\": \"Crew\", \"gender\": 0, \"id\": 1483234, \"job\": \"CG Supervisor\", \"name\": \"Ben White\"}, {\"credit_id\": \"573c8e2f9251413f5d000094\", \"department\": \"Crew\", \"gender\": 1, \"id\": 1621932, \"job\": \"Stunts\", \"name\": \"Min Windle\"}]'"
            ],
            "application/vnd.google.colaboratory.intrinsic+json": {
              "type": "string"
            }
          },
          "metadata": {},
          "execution_count": 169
        }
      ]
    },
    {
      "cell_type": "code",
      "source": [
        "def fetch_director(obj):\n",
        "  l = []\n",
        "  for i in ast.literal_eval(obj):\n",
        "    if i['job'] == 'Director':\n",
        "      l.append(i['name'])\n",
        "      break\n",
        "  return l\n"
      ],
      "metadata": {
        "id": "qKE_w9C_ncuC"
      },
      "execution_count": 170,
      "outputs": []
    },
    {
      "cell_type": "code",
      "source": [
        "df['crew'] = df['crew'].apply(fetch_director)"
      ],
      "metadata": {
        "id": "Lx3y5zEvmdSC"
      },
      "execution_count": 171,
      "outputs": []
    },
    {
      "cell_type": "code",
      "source": [
        "df['crew'][0:5]"
      ],
      "metadata": {
        "colab": {
          "base_uri": "https://localhost:8080/",
          "height": 240
        },
        "id": "W0mRnUPevTAJ",
        "outputId": "5df134f4-bbc3-4afc-d3f4-9ec133d8ff83"
      },
      "execution_count": 172,
      "outputs": [
        {
          "output_type": "execute_result",
          "data": {
            "text/plain": [
              "0        [James Cameron]\n",
              "1       [Gore Verbinski]\n",
              "2           [Sam Mendes]\n",
              "3    [Christopher Nolan]\n",
              "4       [Andrew Stanton]\n",
              "Name: crew, dtype: object"
            ],
            "text/html": [
              "<div>\n",
              "<style scoped>\n",
              "    .dataframe tbody tr th:only-of-type {\n",
              "        vertical-align: middle;\n",
              "    }\n",
              "\n",
              "    .dataframe tbody tr th {\n",
              "        vertical-align: top;\n",
              "    }\n",
              "\n",
              "    .dataframe thead th {\n",
              "        text-align: right;\n",
              "    }\n",
              "</style>\n",
              "<table border=\"1\" class=\"dataframe\">\n",
              "  <thead>\n",
              "    <tr style=\"text-align: right;\">\n",
              "      <th></th>\n",
              "      <th>crew</th>\n",
              "    </tr>\n",
              "  </thead>\n",
              "  <tbody>\n",
              "    <tr>\n",
              "      <th>0</th>\n",
              "      <td>[James Cameron]</td>\n",
              "    </tr>\n",
              "    <tr>\n",
              "      <th>1</th>\n",
              "      <td>[Gore Verbinski]</td>\n",
              "    </tr>\n",
              "    <tr>\n",
              "      <th>2</th>\n",
              "      <td>[Sam Mendes]</td>\n",
              "    </tr>\n",
              "    <tr>\n",
              "      <th>3</th>\n",
              "      <td>[Christopher Nolan]</td>\n",
              "    </tr>\n",
              "    <tr>\n",
              "      <th>4</th>\n",
              "      <td>[Andrew Stanton]</td>\n",
              "    </tr>\n",
              "  </tbody>\n",
              "</table>\n",
              "</div><br><label><b>dtype:</b> object</label>"
            ]
          },
          "metadata": {},
          "execution_count": 172
        }
      ]
    },
    {
      "cell_type": "markdown",
      "source": [
        "# Now before concatenating all formatted columns with overview , we will also convert Overview column into list format so that it becomes easier to merge the infrormation with each other."
      ],
      "metadata": {
        "id": "UilsbnMLobUV"
      }
    },
    {
      "cell_type": "code",
      "source": [
        "df['overview'][0]"
      ],
      "metadata": {
        "colab": {
          "base_uri": "https://localhost:8080/",
          "height": 52
        },
        "id": "3EIsh9CS5x81",
        "outputId": "a89c2f90-44b5-46d2-8ef6-3c3781c4fbfb"
      },
      "execution_count": 173,
      "outputs": [
        {
          "output_type": "execute_result",
          "data": {
            "text/plain": [
              "'In the 22nd century, a paraplegic Marine is dispatched to the moon Pandora on a unique mission, but becomes torn between following orders and protecting an alien civilization.'"
            ],
            "application/vnd.google.colaboratory.intrinsic+json": {
              "type": "string"
            }
          },
          "metadata": {},
          "execution_count": 173
        }
      ]
    },
    {
      "cell_type": "code",
      "source": [
        "df['overview']= df['overview'].apply(lambda x:x.split())"
      ],
      "metadata": {
        "id": "nM7W_EtmpsGU"
      },
      "execution_count": 174,
      "outputs": []
    },
    {
      "cell_type": "code",
      "source": [
        "df['overview'][0]"
      ],
      "metadata": {
        "colab": {
          "base_uri": "https://localhost:8080/"
        },
        "id": "lVvwmn-95-HN",
        "outputId": "e71bb091-24f9-410a-aa72-60bde0a3177b"
      },
      "execution_count": 175,
      "outputs": [
        {
          "output_type": "execute_result",
          "data": {
            "text/plain": [
              "['In',\n",
              " 'the',\n",
              " '22nd',\n",
              " 'century,',\n",
              " 'a',\n",
              " 'paraplegic',\n",
              " 'Marine',\n",
              " 'is',\n",
              " 'dispatched',\n",
              " 'to',\n",
              " 'the',\n",
              " 'moon',\n",
              " 'Pandora',\n",
              " 'on',\n",
              " 'a',\n",
              " 'unique',\n",
              " 'mission,',\n",
              " 'but',\n",
              " 'becomes',\n",
              " 'torn',\n",
              " 'between',\n",
              " 'following',\n",
              " 'orders',\n",
              " 'and',\n",
              " 'protecting',\n",
              " 'an',\n",
              " 'alien',\n",
              " 'civilization.']"
            ]
          },
          "metadata": {},
          "execution_count": 175
        }
      ]
    },
    {
      "cell_type": "code",
      "source": [
        "df.head(1)"
      ],
      "metadata": {
        "colab": {
          "base_uri": "https://localhost:8080/",
          "height": 115
        },
        "id": "juYoVD486JpE",
        "outputId": "4a1132d0-5c29-46b2-f6e6-46d307f06884"
      },
      "execution_count": 176,
      "outputs": [
        {
          "output_type": "execute_result",
          "data": {
            "text/plain": [
              "   movie_id   title                                           overview  \\\n",
              "0     19995  Avatar  [In, the, 22nd, century,, a, paraplegic, Marin...   \n",
              "\n",
              "                                          genres  \\\n",
              "0  [Action, Adventure, Fantasy, Science Fiction]   \n",
              "\n",
              "                                            keywords  \\\n",
              "0  [culture clash, future, space war, space colon...   \n",
              "\n",
              "                                               cast             crew  \n",
              "0  [Sam Worthington, Zoe Saldana, Sigourney Weaver]  [James Cameron]  "
            ],
            "text/html": [
              "\n",
              "  <div id=\"df-0ff97cab-d8c9-4174-b30b-56c3fd5674be\" class=\"colab-df-container\">\n",
              "    <div>\n",
              "<style scoped>\n",
              "    .dataframe tbody tr th:only-of-type {\n",
              "        vertical-align: middle;\n",
              "    }\n",
              "\n",
              "    .dataframe tbody tr th {\n",
              "        vertical-align: top;\n",
              "    }\n",
              "\n",
              "    .dataframe thead th {\n",
              "        text-align: right;\n",
              "    }\n",
              "</style>\n",
              "<table border=\"1\" class=\"dataframe\">\n",
              "  <thead>\n",
              "    <tr style=\"text-align: right;\">\n",
              "      <th></th>\n",
              "      <th>movie_id</th>\n",
              "      <th>title</th>\n",
              "      <th>overview</th>\n",
              "      <th>genres</th>\n",
              "      <th>keywords</th>\n",
              "      <th>cast</th>\n",
              "      <th>crew</th>\n",
              "    </tr>\n",
              "  </thead>\n",
              "  <tbody>\n",
              "    <tr>\n",
              "      <th>0</th>\n",
              "      <td>19995</td>\n",
              "      <td>Avatar</td>\n",
              "      <td>[In, the, 22nd, century,, a, paraplegic, Marin...</td>\n",
              "      <td>[Action, Adventure, Fantasy, Science Fiction]</td>\n",
              "      <td>[culture clash, future, space war, space colon...</td>\n",
              "      <td>[Sam Worthington, Zoe Saldana, Sigourney Weaver]</td>\n",
              "      <td>[James Cameron]</td>\n",
              "    </tr>\n",
              "  </tbody>\n",
              "</table>\n",
              "</div>\n",
              "    <div class=\"colab-df-buttons\">\n",
              "\n",
              "  <div class=\"colab-df-container\">\n",
              "    <button class=\"colab-df-convert\" onclick=\"convertToInteractive('df-0ff97cab-d8c9-4174-b30b-56c3fd5674be')\"\n",
              "            title=\"Convert this dataframe to an interactive table.\"\n",
              "            style=\"display:none;\">\n",
              "\n",
              "  <svg xmlns=\"http://www.w3.org/2000/svg\" height=\"24px\" viewBox=\"0 -960 960 960\">\n",
              "    <path d=\"M120-120v-720h720v720H120Zm60-500h600v-160H180v160Zm220 220h160v-160H400v160Zm0 220h160v-160H400v160ZM180-400h160v-160H180v160Zm440 0h160v-160H620v160ZM180-180h160v-160H180v160Zm440 0h160v-160H620v160Z\"/>\n",
              "  </svg>\n",
              "    </button>\n",
              "\n",
              "  <style>\n",
              "    .colab-df-container {\n",
              "      display:flex;\n",
              "      gap: 12px;\n",
              "    }\n",
              "\n",
              "    .colab-df-convert {\n",
              "      background-color: #E8F0FE;\n",
              "      border: none;\n",
              "      border-radius: 50%;\n",
              "      cursor: pointer;\n",
              "      display: none;\n",
              "      fill: #1967D2;\n",
              "      height: 32px;\n",
              "      padding: 0 0 0 0;\n",
              "      width: 32px;\n",
              "    }\n",
              "\n",
              "    .colab-df-convert:hover {\n",
              "      background-color: #E2EBFA;\n",
              "      box-shadow: 0px 1px 2px rgba(60, 64, 67, 0.3), 0px 1px 3px 1px rgba(60, 64, 67, 0.15);\n",
              "      fill: #174EA6;\n",
              "    }\n",
              "\n",
              "    .colab-df-buttons div {\n",
              "      margin-bottom: 4px;\n",
              "    }\n",
              "\n",
              "    [theme=dark] .colab-df-convert {\n",
              "      background-color: #3B4455;\n",
              "      fill: #D2E3FC;\n",
              "    }\n",
              "\n",
              "    [theme=dark] .colab-df-convert:hover {\n",
              "      background-color: #434B5C;\n",
              "      box-shadow: 0px 1px 3px 1px rgba(0, 0, 0, 0.15);\n",
              "      filter: drop-shadow(0px 1px 2px rgba(0, 0, 0, 0.3));\n",
              "      fill: #FFFFFF;\n",
              "    }\n",
              "  </style>\n",
              "\n",
              "    <script>\n",
              "      const buttonEl =\n",
              "        document.querySelector('#df-0ff97cab-d8c9-4174-b30b-56c3fd5674be button.colab-df-convert');\n",
              "      buttonEl.style.display =\n",
              "        google.colab.kernel.accessAllowed ? 'block' : 'none';\n",
              "\n",
              "      async function convertToInteractive(key) {\n",
              "        const element = document.querySelector('#df-0ff97cab-d8c9-4174-b30b-56c3fd5674be');\n",
              "        const dataTable =\n",
              "          await google.colab.kernel.invokeFunction('convertToInteractive',\n",
              "                                                    [key], {});\n",
              "        if (!dataTable) return;\n",
              "\n",
              "        const docLinkHtml = 'Like what you see? Visit the ' +\n",
              "          '<a target=\"_blank\" href=https://colab.research.google.com/notebooks/data_table.ipynb>data table notebook</a>'\n",
              "          + ' to learn more about interactive tables.';\n",
              "        element.innerHTML = '';\n",
              "        dataTable['output_type'] = 'display_data';\n",
              "        await google.colab.output.renderOutput(dataTable, element);\n",
              "        const docLink = document.createElement('div');\n",
              "        docLink.innerHTML = docLinkHtml;\n",
              "        element.appendChild(docLink);\n",
              "      }\n",
              "    </script>\n",
              "  </div>\n",
              "\n",
              "\n",
              "    </div>\n",
              "  </div>\n"
            ],
            "application/vnd.google.colaboratory.intrinsic+json": {
              "type": "dataframe",
              "variable_name": "df",
              "summary": "{\n  \"name\": \"df\",\n  \"rows\": 4806,\n  \"fields\": [\n    {\n      \"column\": \"movie_id\",\n      \"properties\": {\n        \"dtype\": \"number\",\n        \"std\": 88309,\n        \"min\": 5,\n        \"max\": 447027,\n        \"num_unique_values\": 4800,\n        \"samples\": [\n          8427,\n          9555,\n          10029\n        ],\n        \"semantic_type\": \"\",\n        \"description\": \"\"\n      }\n    },\n    {\n      \"column\": \"title\",\n      \"properties\": {\n        \"dtype\": \"string\",\n        \"num_unique_values\": 4797,\n        \"samples\": [\n          \"Two Brothers\",\n          \"From Paris with Love\",\n          \"Walk the Line\"\n        ],\n        \"semantic_type\": \"\",\n        \"description\": \"\"\n      }\n    },\n    {\n      \"column\": \"overview\",\n      \"properties\": {\n        \"dtype\": \"object\",\n        \"semantic_type\": \"\",\n        \"description\": \"\"\n      }\n    },\n    {\n      \"column\": \"genres\",\n      \"properties\": {\n        \"dtype\": \"object\",\n        \"semantic_type\": \"\",\n        \"description\": \"\"\n      }\n    },\n    {\n      \"column\": \"keywords\",\n      \"properties\": {\n        \"dtype\": \"object\",\n        \"semantic_type\": \"\",\n        \"description\": \"\"\n      }\n    },\n    {\n      \"column\": \"cast\",\n      \"properties\": {\n        \"dtype\": \"object\",\n        \"semantic_type\": \"\",\n        \"description\": \"\"\n      }\n    },\n    {\n      \"column\": \"crew\",\n      \"properties\": {\n        \"dtype\": \"object\",\n        \"semantic_type\": \"\",\n        \"description\": \"\"\n      }\n    }\n  ]\n}"
            }
          },
          "metadata": {},
          "execution_count": 176
        }
      ]
    },
    {
      "cell_type": "markdown",
      "source": [
        "Now before finally merging, we have to remove all spaces by transforming as two names can be similar, so by removing space , we eliminate the posibility for the recommender system to be confused.So we will transform on all four of them. cast, crew, Genre and Keywords  "
      ],
      "metadata": {
        "id": "pjkLPJ1F6S_q"
      }
    },
    {
      "cell_type": "code",
      "source": [
        "df['overview'][0]\n"
      ],
      "metadata": {
        "colab": {
          "base_uri": "https://localhost:8080/"
        },
        "id": "ModRtLqOFWGH",
        "outputId": "bf4231ee-0ce9-4629-f538-915bd3507f48"
      },
      "execution_count": 177,
      "outputs": [
        {
          "output_type": "execute_result",
          "data": {
            "text/plain": [
              "['In',\n",
              " 'the',\n",
              " '22nd',\n",
              " 'century,',\n",
              " 'a',\n",
              " 'paraplegic',\n",
              " 'Marine',\n",
              " 'is',\n",
              " 'dispatched',\n",
              " 'to',\n",
              " 'the',\n",
              " 'moon',\n",
              " 'Pandora',\n",
              " 'on',\n",
              " 'a',\n",
              " 'unique',\n",
              " 'mission,',\n",
              " 'but',\n",
              " 'becomes',\n",
              " 'torn',\n",
              " 'between',\n",
              " 'following',\n",
              " 'orders',\n",
              " 'and',\n",
              " 'protecting',\n",
              " 'an',\n",
              " 'alien',\n",
              " 'civilization.']"
            ]
          },
          "metadata": {},
          "execution_count": 177
        }
      ]
    },
    {
      "cell_type": "code",
      "source": [
        "df.columns"
      ],
      "metadata": {
        "colab": {
          "base_uri": "https://localhost:8080/"
        },
        "id": "8elhEREGnkFx",
        "outputId": "525a8a55-8253-4cfb-ddfc-6b790c9bb7a1"
      },
      "execution_count": 178,
      "outputs": [
        {
          "output_type": "execute_result",
          "data": {
            "text/plain": [
              "Index(['movie_id', 'title', 'overview', 'genres', 'keywords', 'cast', 'crew'], dtype='object')"
            ]
          },
          "metadata": {},
          "execution_count": 178
        }
      ]
    },
    {
      "cell_type": "code",
      "source": [
        "df['genres']= df['genres'].apply(lambda x:[i.replace(\" \",\"\") for i in x])\n",
        "df['keywords']= df['keywords'].apply(lambda x:[i.replace(\" \",\"\") for i in x])\n",
        "df['cast']= df['cast'].apply(lambda x:[i.replace(\" \",\"\") for i in x])\n",
        "df['crew']= df['crew'].apply(lambda x:[i.replace(\" \",\"\") for i in x])"
      ],
      "metadata": {
        "id": "O3E94-7hyfWe"
      },
      "execution_count": 179,
      "outputs": []
    },
    {
      "cell_type": "code",
      "source": [
        "df.head()"
      ],
      "metadata": {
        "colab": {
          "base_uri": "https://localhost:8080/",
          "height": 466
        },
        "id": "ZRDG_9jtsXDd",
        "outputId": "0b52b09b-e441-4269-d984-8733d4899fdb"
      },
      "execution_count": 180,
      "outputs": [
        {
          "output_type": "execute_result",
          "data": {
            "text/plain": [
              "   movie_id                                     title  \\\n",
              "0     19995                                    Avatar   \n",
              "1       285  Pirates of the Caribbean: At World's End   \n",
              "2    206647                                   Spectre   \n",
              "3     49026                     The Dark Knight Rises   \n",
              "4     49529                               John Carter   \n",
              "\n",
              "                                            overview  \\\n",
              "0  [In, the, 22nd, century,, a, paraplegic, Marin...   \n",
              "1  [Captain, Barbossa,, long, believed, to, be, d...   \n",
              "2  [A, cryptic, message, from, Bond’s, past, send...   \n",
              "3  [Following, the, death, of, District, Attorney...   \n",
              "4  [John, Carter, is, a, war-weary,, former, mili...   \n",
              "\n",
              "                                         genres  \\\n",
              "0  [Action, Adventure, Fantasy, ScienceFiction]   \n",
              "1                  [Adventure, Fantasy, Action]   \n",
              "2                    [Action, Adventure, Crime]   \n",
              "3              [Action, Crime, Drama, Thriller]   \n",
              "4           [Action, Adventure, ScienceFiction]   \n",
              "\n",
              "                                            keywords  \\\n",
              "0  [cultureclash, future, spacewar, spacecolony, ...   \n",
              "1  [ocean, drugabuse, exoticisland, eastindiatrad...   \n",
              "2  [spy, basedonnovel, secretagent, sequel, mi6, ...   \n",
              "3  [dccomics, crimefighter, terrorist, secretiden...   \n",
              "4  [basedonnovel, mars, medallion, spacetravel, p...   \n",
              "\n",
              "                                            cast                crew  \n",
              "0  [SamWorthington, ZoeSaldana, SigourneyWeaver]      [JamesCameron]  \n",
              "1     [JohnnyDepp, OrlandoBloom, KeiraKnightley]     [GoreVerbinski]  \n",
              "2      [DanielCraig, ChristophWaltz, LéaSeydoux]         [SamMendes]  \n",
              "3      [ChristianBale, MichaelCaine, GaryOldman]  [ChristopherNolan]  \n",
              "4    [TaylorKitsch, LynnCollins, SamanthaMorton]     [AndrewStanton]  "
            ],
            "text/html": [
              "\n",
              "  <div id=\"df-241ea7ed-1721-4354-8c5f-8e8fd8d12d05\" class=\"colab-df-container\">\n",
              "    <div>\n",
              "<style scoped>\n",
              "    .dataframe tbody tr th:only-of-type {\n",
              "        vertical-align: middle;\n",
              "    }\n",
              "\n",
              "    .dataframe tbody tr th {\n",
              "        vertical-align: top;\n",
              "    }\n",
              "\n",
              "    .dataframe thead th {\n",
              "        text-align: right;\n",
              "    }\n",
              "</style>\n",
              "<table border=\"1\" class=\"dataframe\">\n",
              "  <thead>\n",
              "    <tr style=\"text-align: right;\">\n",
              "      <th></th>\n",
              "      <th>movie_id</th>\n",
              "      <th>title</th>\n",
              "      <th>overview</th>\n",
              "      <th>genres</th>\n",
              "      <th>keywords</th>\n",
              "      <th>cast</th>\n",
              "      <th>crew</th>\n",
              "    </tr>\n",
              "  </thead>\n",
              "  <tbody>\n",
              "    <tr>\n",
              "      <th>0</th>\n",
              "      <td>19995</td>\n",
              "      <td>Avatar</td>\n",
              "      <td>[In, the, 22nd, century,, a, paraplegic, Marin...</td>\n",
              "      <td>[Action, Adventure, Fantasy, ScienceFiction]</td>\n",
              "      <td>[cultureclash, future, spacewar, spacecolony, ...</td>\n",
              "      <td>[SamWorthington, ZoeSaldana, SigourneyWeaver]</td>\n",
              "      <td>[JamesCameron]</td>\n",
              "    </tr>\n",
              "    <tr>\n",
              "      <th>1</th>\n",
              "      <td>285</td>\n",
              "      <td>Pirates of the Caribbean: At World's End</td>\n",
              "      <td>[Captain, Barbossa,, long, believed, to, be, d...</td>\n",
              "      <td>[Adventure, Fantasy, Action]</td>\n",
              "      <td>[ocean, drugabuse, exoticisland, eastindiatrad...</td>\n",
              "      <td>[JohnnyDepp, OrlandoBloom, KeiraKnightley]</td>\n",
              "      <td>[GoreVerbinski]</td>\n",
              "    </tr>\n",
              "    <tr>\n",
              "      <th>2</th>\n",
              "      <td>206647</td>\n",
              "      <td>Spectre</td>\n",
              "      <td>[A, cryptic, message, from, Bond’s, past, send...</td>\n",
              "      <td>[Action, Adventure, Crime]</td>\n",
              "      <td>[spy, basedonnovel, secretagent, sequel, mi6, ...</td>\n",
              "      <td>[DanielCraig, ChristophWaltz, LéaSeydoux]</td>\n",
              "      <td>[SamMendes]</td>\n",
              "    </tr>\n",
              "    <tr>\n",
              "      <th>3</th>\n",
              "      <td>49026</td>\n",
              "      <td>The Dark Knight Rises</td>\n",
              "      <td>[Following, the, death, of, District, Attorney...</td>\n",
              "      <td>[Action, Crime, Drama, Thriller]</td>\n",
              "      <td>[dccomics, crimefighter, terrorist, secretiden...</td>\n",
              "      <td>[ChristianBale, MichaelCaine, GaryOldman]</td>\n",
              "      <td>[ChristopherNolan]</td>\n",
              "    </tr>\n",
              "    <tr>\n",
              "      <th>4</th>\n",
              "      <td>49529</td>\n",
              "      <td>John Carter</td>\n",
              "      <td>[John, Carter, is, a, war-weary,, former, mili...</td>\n",
              "      <td>[Action, Adventure, ScienceFiction]</td>\n",
              "      <td>[basedonnovel, mars, medallion, spacetravel, p...</td>\n",
              "      <td>[TaylorKitsch, LynnCollins, SamanthaMorton]</td>\n",
              "      <td>[AndrewStanton]</td>\n",
              "    </tr>\n",
              "  </tbody>\n",
              "</table>\n",
              "</div>\n",
              "    <div class=\"colab-df-buttons\">\n",
              "\n",
              "  <div class=\"colab-df-container\">\n",
              "    <button class=\"colab-df-convert\" onclick=\"convertToInteractive('df-241ea7ed-1721-4354-8c5f-8e8fd8d12d05')\"\n",
              "            title=\"Convert this dataframe to an interactive table.\"\n",
              "            style=\"display:none;\">\n",
              "\n",
              "  <svg xmlns=\"http://www.w3.org/2000/svg\" height=\"24px\" viewBox=\"0 -960 960 960\">\n",
              "    <path d=\"M120-120v-720h720v720H120Zm60-500h600v-160H180v160Zm220 220h160v-160H400v160Zm0 220h160v-160H400v160ZM180-400h160v-160H180v160Zm440 0h160v-160H620v160ZM180-180h160v-160H180v160Zm440 0h160v-160H620v160Z\"/>\n",
              "  </svg>\n",
              "    </button>\n",
              "\n",
              "  <style>\n",
              "    .colab-df-container {\n",
              "      display:flex;\n",
              "      gap: 12px;\n",
              "    }\n",
              "\n",
              "    .colab-df-convert {\n",
              "      background-color: #E8F0FE;\n",
              "      border: none;\n",
              "      border-radius: 50%;\n",
              "      cursor: pointer;\n",
              "      display: none;\n",
              "      fill: #1967D2;\n",
              "      height: 32px;\n",
              "      padding: 0 0 0 0;\n",
              "      width: 32px;\n",
              "    }\n",
              "\n",
              "    .colab-df-convert:hover {\n",
              "      background-color: #E2EBFA;\n",
              "      box-shadow: 0px 1px 2px rgba(60, 64, 67, 0.3), 0px 1px 3px 1px rgba(60, 64, 67, 0.15);\n",
              "      fill: #174EA6;\n",
              "    }\n",
              "\n",
              "    .colab-df-buttons div {\n",
              "      margin-bottom: 4px;\n",
              "    }\n",
              "\n",
              "    [theme=dark] .colab-df-convert {\n",
              "      background-color: #3B4455;\n",
              "      fill: #D2E3FC;\n",
              "    }\n",
              "\n",
              "    [theme=dark] .colab-df-convert:hover {\n",
              "      background-color: #434B5C;\n",
              "      box-shadow: 0px 1px 3px 1px rgba(0, 0, 0, 0.15);\n",
              "      filter: drop-shadow(0px 1px 2px rgba(0, 0, 0, 0.3));\n",
              "      fill: #FFFFFF;\n",
              "    }\n",
              "  </style>\n",
              "\n",
              "    <script>\n",
              "      const buttonEl =\n",
              "        document.querySelector('#df-241ea7ed-1721-4354-8c5f-8e8fd8d12d05 button.colab-df-convert');\n",
              "      buttonEl.style.display =\n",
              "        google.colab.kernel.accessAllowed ? 'block' : 'none';\n",
              "\n",
              "      async function convertToInteractive(key) {\n",
              "        const element = document.querySelector('#df-241ea7ed-1721-4354-8c5f-8e8fd8d12d05');\n",
              "        const dataTable =\n",
              "          await google.colab.kernel.invokeFunction('convertToInteractive',\n",
              "                                                    [key], {});\n",
              "        if (!dataTable) return;\n",
              "\n",
              "        const docLinkHtml = 'Like what you see? Visit the ' +\n",
              "          '<a target=\"_blank\" href=https://colab.research.google.com/notebooks/data_table.ipynb>data table notebook</a>'\n",
              "          + ' to learn more about interactive tables.';\n",
              "        element.innerHTML = '';\n",
              "        dataTable['output_type'] = 'display_data';\n",
              "        await google.colab.output.renderOutput(dataTable, element);\n",
              "        const docLink = document.createElement('div');\n",
              "        docLink.innerHTML = docLinkHtml;\n",
              "        element.appendChild(docLink);\n",
              "      }\n",
              "    </script>\n",
              "  </div>\n",
              "\n",
              "\n",
              "<div id=\"df-06778c96-21aa-48db-8911-390c4a2b7260\">\n",
              "  <button class=\"colab-df-quickchart\" onclick=\"quickchart('df-06778c96-21aa-48db-8911-390c4a2b7260')\"\n",
              "            title=\"Suggest charts\"\n",
              "            style=\"display:none;\">\n",
              "\n",
              "<svg xmlns=\"http://www.w3.org/2000/svg\" height=\"24px\"viewBox=\"0 0 24 24\"\n",
              "     width=\"24px\">\n",
              "    <g>\n",
              "        <path d=\"M19 3H5c-1.1 0-2 .9-2 2v14c0 1.1.9 2 2 2h14c1.1 0 2-.9 2-2V5c0-1.1-.9-2-2-2zM9 17H7v-7h2v7zm4 0h-2V7h2v10zm4 0h-2v-4h2v4z\"/>\n",
              "    </g>\n",
              "</svg>\n",
              "  </button>\n",
              "\n",
              "<style>\n",
              "  .colab-df-quickchart {\n",
              "      --bg-color: #E8F0FE;\n",
              "      --fill-color: #1967D2;\n",
              "      --hover-bg-color: #E2EBFA;\n",
              "      --hover-fill-color: #174EA6;\n",
              "      --disabled-fill-color: #AAA;\n",
              "      --disabled-bg-color: #DDD;\n",
              "  }\n",
              "\n",
              "  [theme=dark] .colab-df-quickchart {\n",
              "      --bg-color: #3B4455;\n",
              "      --fill-color: #D2E3FC;\n",
              "      --hover-bg-color: #434B5C;\n",
              "      --hover-fill-color: #FFFFFF;\n",
              "      --disabled-bg-color: #3B4455;\n",
              "      --disabled-fill-color: #666;\n",
              "  }\n",
              "\n",
              "  .colab-df-quickchart {\n",
              "    background-color: var(--bg-color);\n",
              "    border: none;\n",
              "    border-radius: 50%;\n",
              "    cursor: pointer;\n",
              "    display: none;\n",
              "    fill: var(--fill-color);\n",
              "    height: 32px;\n",
              "    padding: 0;\n",
              "    width: 32px;\n",
              "  }\n",
              "\n",
              "  .colab-df-quickchart:hover {\n",
              "    background-color: var(--hover-bg-color);\n",
              "    box-shadow: 0 1px 2px rgba(60, 64, 67, 0.3), 0 1px 3px 1px rgba(60, 64, 67, 0.15);\n",
              "    fill: var(--button-hover-fill-color);\n",
              "  }\n",
              "\n",
              "  .colab-df-quickchart-complete:disabled,\n",
              "  .colab-df-quickchart-complete:disabled:hover {\n",
              "    background-color: var(--disabled-bg-color);\n",
              "    fill: var(--disabled-fill-color);\n",
              "    box-shadow: none;\n",
              "  }\n",
              "\n",
              "  .colab-df-spinner {\n",
              "    border: 2px solid var(--fill-color);\n",
              "    border-color: transparent;\n",
              "    border-bottom-color: var(--fill-color);\n",
              "    animation:\n",
              "      spin 1s steps(1) infinite;\n",
              "  }\n",
              "\n",
              "  @keyframes spin {\n",
              "    0% {\n",
              "      border-color: transparent;\n",
              "      border-bottom-color: var(--fill-color);\n",
              "      border-left-color: var(--fill-color);\n",
              "    }\n",
              "    20% {\n",
              "      border-color: transparent;\n",
              "      border-left-color: var(--fill-color);\n",
              "      border-top-color: var(--fill-color);\n",
              "    }\n",
              "    30% {\n",
              "      border-color: transparent;\n",
              "      border-left-color: var(--fill-color);\n",
              "      border-top-color: var(--fill-color);\n",
              "      border-right-color: var(--fill-color);\n",
              "    }\n",
              "    40% {\n",
              "      border-color: transparent;\n",
              "      border-right-color: var(--fill-color);\n",
              "      border-top-color: var(--fill-color);\n",
              "    }\n",
              "    60% {\n",
              "      border-color: transparent;\n",
              "      border-right-color: var(--fill-color);\n",
              "    }\n",
              "    80% {\n",
              "      border-color: transparent;\n",
              "      border-right-color: var(--fill-color);\n",
              "      border-bottom-color: var(--fill-color);\n",
              "    }\n",
              "    90% {\n",
              "      border-color: transparent;\n",
              "      border-bottom-color: var(--fill-color);\n",
              "    }\n",
              "  }\n",
              "</style>\n",
              "\n",
              "  <script>\n",
              "    async function quickchart(key) {\n",
              "      const quickchartButtonEl =\n",
              "        document.querySelector('#' + key + ' button');\n",
              "      quickchartButtonEl.disabled = true;  // To prevent multiple clicks.\n",
              "      quickchartButtonEl.classList.add('colab-df-spinner');\n",
              "      try {\n",
              "        const charts = await google.colab.kernel.invokeFunction(\n",
              "            'suggestCharts', [key], {});\n",
              "      } catch (error) {\n",
              "        console.error('Error during call to suggestCharts:', error);\n",
              "      }\n",
              "      quickchartButtonEl.classList.remove('colab-df-spinner');\n",
              "      quickchartButtonEl.classList.add('colab-df-quickchart-complete');\n",
              "    }\n",
              "    (() => {\n",
              "      let quickchartButtonEl =\n",
              "        document.querySelector('#df-06778c96-21aa-48db-8911-390c4a2b7260 button');\n",
              "      quickchartButtonEl.style.display =\n",
              "        google.colab.kernel.accessAllowed ? 'block' : 'none';\n",
              "    })();\n",
              "  </script>\n",
              "</div>\n",
              "\n",
              "    </div>\n",
              "  </div>\n"
            ],
            "application/vnd.google.colaboratory.intrinsic+json": {
              "type": "dataframe",
              "variable_name": "df",
              "summary": "{\n  \"name\": \"df\",\n  \"rows\": 4806,\n  \"fields\": [\n    {\n      \"column\": \"movie_id\",\n      \"properties\": {\n        \"dtype\": \"number\",\n        \"std\": 88309,\n        \"min\": 5,\n        \"max\": 447027,\n        \"num_unique_values\": 4800,\n        \"samples\": [\n          8427,\n          9555,\n          10029\n        ],\n        \"semantic_type\": \"\",\n        \"description\": \"\"\n      }\n    },\n    {\n      \"column\": \"title\",\n      \"properties\": {\n        \"dtype\": \"string\",\n        \"num_unique_values\": 4797,\n        \"samples\": [\n          \"Two Brothers\",\n          \"From Paris with Love\",\n          \"Walk the Line\"\n        ],\n        \"semantic_type\": \"\",\n        \"description\": \"\"\n      }\n    },\n    {\n      \"column\": \"overview\",\n      \"properties\": {\n        \"dtype\": \"object\",\n        \"semantic_type\": \"\",\n        \"description\": \"\"\n      }\n    },\n    {\n      \"column\": \"genres\",\n      \"properties\": {\n        \"dtype\": \"object\",\n        \"semantic_type\": \"\",\n        \"description\": \"\"\n      }\n    },\n    {\n      \"column\": \"keywords\",\n      \"properties\": {\n        \"dtype\": \"object\",\n        \"semantic_type\": \"\",\n        \"description\": \"\"\n      }\n    },\n    {\n      \"column\": \"cast\",\n      \"properties\": {\n        \"dtype\": \"object\",\n        \"semantic_type\": \"\",\n        \"description\": \"\"\n      }\n    },\n    {\n      \"column\": \"crew\",\n      \"properties\": {\n        \"dtype\": \"object\",\n        \"semantic_type\": \"\",\n        \"description\": \"\"\n      }\n    }\n  ]\n}"
            }
          },
          "metadata": {},
          "execution_count": 180
        }
      ]
    },
    {
      "cell_type": "code",
      "source": [
        "df['tags'] = df['overview'] + df['genres'] + df['keywords'] + df['cast'] + df['crew']"
      ],
      "metadata": {
        "id": "52WOGg6dOcV3"
      },
      "execution_count": 181,
      "outputs": []
    },
    {
      "cell_type": "code",
      "source": [
        "new_df = df[['movie_id','title','tags']]"
      ],
      "metadata": {
        "id": "zTSdHW-wsqK6"
      },
      "execution_count": 182,
      "outputs": []
    },
    {
      "cell_type": "code",
      "source": [
        "new_df"
      ],
      "metadata": {
        "colab": {
          "base_uri": "https://localhost:8080/",
          "height": 423
        },
        "id": "ivLiQrt2sqAI",
        "outputId": "2392c9a0-d2b6-4b4a-f96f-653763ae3467"
      },
      "execution_count": 183,
      "outputs": [
        {
          "output_type": "execute_result",
          "data": {
            "text/plain": [
              "      movie_id                                     title  \\\n",
              "0        19995                                    Avatar   \n",
              "1          285  Pirates of the Caribbean: At World's End   \n",
              "2       206647                                   Spectre   \n",
              "3        49026                     The Dark Knight Rises   \n",
              "4        49529                               John Carter   \n",
              "...        ...                                       ...   \n",
              "4804      9367                               El Mariachi   \n",
              "4805     72766                                 Newlyweds   \n",
              "4806    231617                 Signed, Sealed, Delivered   \n",
              "4807    126186                          Shanghai Calling   \n",
              "4808     25975                         My Date with Drew   \n",
              "\n",
              "                                                   tags  \n",
              "0     [In, the, 22nd, century,, a, paraplegic, Marin...  \n",
              "1     [Captain, Barbossa,, long, believed, to, be, d...  \n",
              "2     [A, cryptic, message, from, Bond’s, past, send...  \n",
              "3     [Following, the, death, of, District, Attorney...  \n",
              "4     [John, Carter, is, a, war-weary,, former, mili...  \n",
              "...                                                 ...  \n",
              "4804  [El, Mariachi, just, wants, to, play, his, gui...  \n",
              "4805  [A, newlywed, couple's, honeymoon, is, upended...  \n",
              "4806  [\"Signed,, Sealed,, Delivered\", introduces, a,...  \n",
              "4807  [When, ambitious, New, York, attorney, Sam, is...  \n",
              "4808  [Ever, since, the, second, grade, when, he, fi...  \n",
              "\n",
              "[4806 rows x 3 columns]"
            ],
            "text/html": [
              "\n",
              "  <div id=\"df-a2641203-0bf5-4133-a53b-c6f000240b86\" class=\"colab-df-container\">\n",
              "    <div>\n",
              "<style scoped>\n",
              "    .dataframe tbody tr th:only-of-type {\n",
              "        vertical-align: middle;\n",
              "    }\n",
              "\n",
              "    .dataframe tbody tr th {\n",
              "        vertical-align: top;\n",
              "    }\n",
              "\n",
              "    .dataframe thead th {\n",
              "        text-align: right;\n",
              "    }\n",
              "</style>\n",
              "<table border=\"1\" class=\"dataframe\">\n",
              "  <thead>\n",
              "    <tr style=\"text-align: right;\">\n",
              "      <th></th>\n",
              "      <th>movie_id</th>\n",
              "      <th>title</th>\n",
              "      <th>tags</th>\n",
              "    </tr>\n",
              "  </thead>\n",
              "  <tbody>\n",
              "    <tr>\n",
              "      <th>0</th>\n",
              "      <td>19995</td>\n",
              "      <td>Avatar</td>\n",
              "      <td>[In, the, 22nd, century,, a, paraplegic, Marin...</td>\n",
              "    </tr>\n",
              "    <tr>\n",
              "      <th>1</th>\n",
              "      <td>285</td>\n",
              "      <td>Pirates of the Caribbean: At World's End</td>\n",
              "      <td>[Captain, Barbossa,, long, believed, to, be, d...</td>\n",
              "    </tr>\n",
              "    <tr>\n",
              "      <th>2</th>\n",
              "      <td>206647</td>\n",
              "      <td>Spectre</td>\n",
              "      <td>[A, cryptic, message, from, Bond’s, past, send...</td>\n",
              "    </tr>\n",
              "    <tr>\n",
              "      <th>3</th>\n",
              "      <td>49026</td>\n",
              "      <td>The Dark Knight Rises</td>\n",
              "      <td>[Following, the, death, of, District, Attorney...</td>\n",
              "    </tr>\n",
              "    <tr>\n",
              "      <th>4</th>\n",
              "      <td>49529</td>\n",
              "      <td>John Carter</td>\n",
              "      <td>[John, Carter, is, a, war-weary,, former, mili...</td>\n",
              "    </tr>\n",
              "    <tr>\n",
              "      <th>...</th>\n",
              "      <td>...</td>\n",
              "      <td>...</td>\n",
              "      <td>...</td>\n",
              "    </tr>\n",
              "    <tr>\n",
              "      <th>4804</th>\n",
              "      <td>9367</td>\n",
              "      <td>El Mariachi</td>\n",
              "      <td>[El, Mariachi, just, wants, to, play, his, gui...</td>\n",
              "    </tr>\n",
              "    <tr>\n",
              "      <th>4805</th>\n",
              "      <td>72766</td>\n",
              "      <td>Newlyweds</td>\n",
              "      <td>[A, newlywed, couple's, honeymoon, is, upended...</td>\n",
              "    </tr>\n",
              "    <tr>\n",
              "      <th>4806</th>\n",
              "      <td>231617</td>\n",
              "      <td>Signed, Sealed, Delivered</td>\n",
              "      <td>[\"Signed,, Sealed,, Delivered\", introduces, a,...</td>\n",
              "    </tr>\n",
              "    <tr>\n",
              "      <th>4807</th>\n",
              "      <td>126186</td>\n",
              "      <td>Shanghai Calling</td>\n",
              "      <td>[When, ambitious, New, York, attorney, Sam, is...</td>\n",
              "    </tr>\n",
              "    <tr>\n",
              "      <th>4808</th>\n",
              "      <td>25975</td>\n",
              "      <td>My Date with Drew</td>\n",
              "      <td>[Ever, since, the, second, grade, when, he, fi...</td>\n",
              "    </tr>\n",
              "  </tbody>\n",
              "</table>\n",
              "<p>4806 rows × 3 columns</p>\n",
              "</div>\n",
              "    <div class=\"colab-df-buttons\">\n",
              "\n",
              "  <div class=\"colab-df-container\">\n",
              "    <button class=\"colab-df-convert\" onclick=\"convertToInteractive('df-a2641203-0bf5-4133-a53b-c6f000240b86')\"\n",
              "            title=\"Convert this dataframe to an interactive table.\"\n",
              "            style=\"display:none;\">\n",
              "\n",
              "  <svg xmlns=\"http://www.w3.org/2000/svg\" height=\"24px\" viewBox=\"0 -960 960 960\">\n",
              "    <path d=\"M120-120v-720h720v720H120Zm60-500h600v-160H180v160Zm220 220h160v-160H400v160Zm0 220h160v-160H400v160ZM180-400h160v-160H180v160Zm440 0h160v-160H620v160ZM180-180h160v-160H180v160Zm440 0h160v-160H620v160Z\"/>\n",
              "  </svg>\n",
              "    </button>\n",
              "\n",
              "  <style>\n",
              "    .colab-df-container {\n",
              "      display:flex;\n",
              "      gap: 12px;\n",
              "    }\n",
              "\n",
              "    .colab-df-convert {\n",
              "      background-color: #E8F0FE;\n",
              "      border: none;\n",
              "      border-radius: 50%;\n",
              "      cursor: pointer;\n",
              "      display: none;\n",
              "      fill: #1967D2;\n",
              "      height: 32px;\n",
              "      padding: 0 0 0 0;\n",
              "      width: 32px;\n",
              "    }\n",
              "\n",
              "    .colab-df-convert:hover {\n",
              "      background-color: #E2EBFA;\n",
              "      box-shadow: 0px 1px 2px rgba(60, 64, 67, 0.3), 0px 1px 3px 1px rgba(60, 64, 67, 0.15);\n",
              "      fill: #174EA6;\n",
              "    }\n",
              "\n",
              "    .colab-df-buttons div {\n",
              "      margin-bottom: 4px;\n",
              "    }\n",
              "\n",
              "    [theme=dark] .colab-df-convert {\n",
              "      background-color: #3B4455;\n",
              "      fill: #D2E3FC;\n",
              "    }\n",
              "\n",
              "    [theme=dark] .colab-df-convert:hover {\n",
              "      background-color: #434B5C;\n",
              "      box-shadow: 0px 1px 3px 1px rgba(0, 0, 0, 0.15);\n",
              "      filter: drop-shadow(0px 1px 2px rgba(0, 0, 0, 0.3));\n",
              "      fill: #FFFFFF;\n",
              "    }\n",
              "  </style>\n",
              "\n",
              "    <script>\n",
              "      const buttonEl =\n",
              "        document.querySelector('#df-a2641203-0bf5-4133-a53b-c6f000240b86 button.colab-df-convert');\n",
              "      buttonEl.style.display =\n",
              "        google.colab.kernel.accessAllowed ? 'block' : 'none';\n",
              "\n",
              "      async function convertToInteractive(key) {\n",
              "        const element = document.querySelector('#df-a2641203-0bf5-4133-a53b-c6f000240b86');\n",
              "        const dataTable =\n",
              "          await google.colab.kernel.invokeFunction('convertToInteractive',\n",
              "                                                    [key], {});\n",
              "        if (!dataTable) return;\n",
              "\n",
              "        const docLinkHtml = 'Like what you see? Visit the ' +\n",
              "          '<a target=\"_blank\" href=https://colab.research.google.com/notebooks/data_table.ipynb>data table notebook</a>'\n",
              "          + ' to learn more about interactive tables.';\n",
              "        element.innerHTML = '';\n",
              "        dataTable['output_type'] = 'display_data';\n",
              "        await google.colab.output.renderOutput(dataTable, element);\n",
              "        const docLink = document.createElement('div');\n",
              "        docLink.innerHTML = docLinkHtml;\n",
              "        element.appendChild(docLink);\n",
              "      }\n",
              "    </script>\n",
              "  </div>\n",
              "\n",
              "\n",
              "<div id=\"df-b306930e-0b27-4881-975f-490a956f0716\">\n",
              "  <button class=\"colab-df-quickchart\" onclick=\"quickchart('df-b306930e-0b27-4881-975f-490a956f0716')\"\n",
              "            title=\"Suggest charts\"\n",
              "            style=\"display:none;\">\n",
              "\n",
              "<svg xmlns=\"http://www.w3.org/2000/svg\" height=\"24px\"viewBox=\"0 0 24 24\"\n",
              "     width=\"24px\">\n",
              "    <g>\n",
              "        <path d=\"M19 3H5c-1.1 0-2 .9-2 2v14c0 1.1.9 2 2 2h14c1.1 0 2-.9 2-2V5c0-1.1-.9-2-2-2zM9 17H7v-7h2v7zm4 0h-2V7h2v10zm4 0h-2v-4h2v4z\"/>\n",
              "    </g>\n",
              "</svg>\n",
              "  </button>\n",
              "\n",
              "<style>\n",
              "  .colab-df-quickchart {\n",
              "      --bg-color: #E8F0FE;\n",
              "      --fill-color: #1967D2;\n",
              "      --hover-bg-color: #E2EBFA;\n",
              "      --hover-fill-color: #174EA6;\n",
              "      --disabled-fill-color: #AAA;\n",
              "      --disabled-bg-color: #DDD;\n",
              "  }\n",
              "\n",
              "  [theme=dark] .colab-df-quickchart {\n",
              "      --bg-color: #3B4455;\n",
              "      --fill-color: #D2E3FC;\n",
              "      --hover-bg-color: #434B5C;\n",
              "      --hover-fill-color: #FFFFFF;\n",
              "      --disabled-bg-color: #3B4455;\n",
              "      --disabled-fill-color: #666;\n",
              "  }\n",
              "\n",
              "  .colab-df-quickchart {\n",
              "    background-color: var(--bg-color);\n",
              "    border: none;\n",
              "    border-radius: 50%;\n",
              "    cursor: pointer;\n",
              "    display: none;\n",
              "    fill: var(--fill-color);\n",
              "    height: 32px;\n",
              "    padding: 0;\n",
              "    width: 32px;\n",
              "  }\n",
              "\n",
              "  .colab-df-quickchart:hover {\n",
              "    background-color: var(--hover-bg-color);\n",
              "    box-shadow: 0 1px 2px rgba(60, 64, 67, 0.3), 0 1px 3px 1px rgba(60, 64, 67, 0.15);\n",
              "    fill: var(--button-hover-fill-color);\n",
              "  }\n",
              "\n",
              "  .colab-df-quickchart-complete:disabled,\n",
              "  .colab-df-quickchart-complete:disabled:hover {\n",
              "    background-color: var(--disabled-bg-color);\n",
              "    fill: var(--disabled-fill-color);\n",
              "    box-shadow: none;\n",
              "  }\n",
              "\n",
              "  .colab-df-spinner {\n",
              "    border: 2px solid var(--fill-color);\n",
              "    border-color: transparent;\n",
              "    border-bottom-color: var(--fill-color);\n",
              "    animation:\n",
              "      spin 1s steps(1) infinite;\n",
              "  }\n",
              "\n",
              "  @keyframes spin {\n",
              "    0% {\n",
              "      border-color: transparent;\n",
              "      border-bottom-color: var(--fill-color);\n",
              "      border-left-color: var(--fill-color);\n",
              "    }\n",
              "    20% {\n",
              "      border-color: transparent;\n",
              "      border-left-color: var(--fill-color);\n",
              "      border-top-color: var(--fill-color);\n",
              "    }\n",
              "    30% {\n",
              "      border-color: transparent;\n",
              "      border-left-color: var(--fill-color);\n",
              "      border-top-color: var(--fill-color);\n",
              "      border-right-color: var(--fill-color);\n",
              "    }\n",
              "    40% {\n",
              "      border-color: transparent;\n",
              "      border-right-color: var(--fill-color);\n",
              "      border-top-color: var(--fill-color);\n",
              "    }\n",
              "    60% {\n",
              "      border-color: transparent;\n",
              "      border-right-color: var(--fill-color);\n",
              "    }\n",
              "    80% {\n",
              "      border-color: transparent;\n",
              "      border-right-color: var(--fill-color);\n",
              "      border-bottom-color: var(--fill-color);\n",
              "    }\n",
              "    90% {\n",
              "      border-color: transparent;\n",
              "      border-bottom-color: var(--fill-color);\n",
              "    }\n",
              "  }\n",
              "</style>\n",
              "\n",
              "  <script>\n",
              "    async function quickchart(key) {\n",
              "      const quickchartButtonEl =\n",
              "        document.querySelector('#' + key + ' button');\n",
              "      quickchartButtonEl.disabled = true;  // To prevent multiple clicks.\n",
              "      quickchartButtonEl.classList.add('colab-df-spinner');\n",
              "      try {\n",
              "        const charts = await google.colab.kernel.invokeFunction(\n",
              "            'suggestCharts', [key], {});\n",
              "      } catch (error) {\n",
              "        console.error('Error during call to suggestCharts:', error);\n",
              "      }\n",
              "      quickchartButtonEl.classList.remove('colab-df-spinner');\n",
              "      quickchartButtonEl.classList.add('colab-df-quickchart-complete');\n",
              "    }\n",
              "    (() => {\n",
              "      let quickchartButtonEl =\n",
              "        document.querySelector('#df-b306930e-0b27-4881-975f-490a956f0716 button');\n",
              "      quickchartButtonEl.style.display =\n",
              "        google.colab.kernel.accessAllowed ? 'block' : 'none';\n",
              "    })();\n",
              "  </script>\n",
              "</div>\n",
              "\n",
              "  <div id=\"id_3d184310-a530-4795-bc37-88c8ef2c1dec\">\n",
              "    <style>\n",
              "      .colab-df-generate {\n",
              "        background-color: #E8F0FE;\n",
              "        border: none;\n",
              "        border-radius: 50%;\n",
              "        cursor: pointer;\n",
              "        display: none;\n",
              "        fill: #1967D2;\n",
              "        height: 32px;\n",
              "        padding: 0 0 0 0;\n",
              "        width: 32px;\n",
              "      }\n",
              "\n",
              "      .colab-df-generate:hover {\n",
              "        background-color: #E2EBFA;\n",
              "        box-shadow: 0px 1px 2px rgba(60, 64, 67, 0.3), 0px 1px 3px 1px rgba(60, 64, 67, 0.15);\n",
              "        fill: #174EA6;\n",
              "      }\n",
              "\n",
              "      [theme=dark] .colab-df-generate {\n",
              "        background-color: #3B4455;\n",
              "        fill: #D2E3FC;\n",
              "      }\n",
              "\n",
              "      [theme=dark] .colab-df-generate:hover {\n",
              "        background-color: #434B5C;\n",
              "        box-shadow: 0px 1px 3px 1px rgba(0, 0, 0, 0.15);\n",
              "        filter: drop-shadow(0px 1px 2px rgba(0, 0, 0, 0.3));\n",
              "        fill: #FFFFFF;\n",
              "      }\n",
              "    </style>\n",
              "    <button class=\"colab-df-generate\" onclick=\"generateWithVariable('new_df')\"\n",
              "            title=\"Generate code using this dataframe.\"\n",
              "            style=\"display:none;\">\n",
              "\n",
              "  <svg xmlns=\"http://www.w3.org/2000/svg\" height=\"24px\"viewBox=\"0 0 24 24\"\n",
              "       width=\"24px\">\n",
              "    <path d=\"M7,19H8.4L18.45,9,17,7.55,7,17.6ZM5,21V16.75L18.45,3.32a2,2,0,0,1,2.83,0l1.4,1.43a1.91,1.91,0,0,1,.58,1.4,1.91,1.91,0,0,1-.58,1.4L9.25,21ZM18.45,9,17,7.55Zm-12,3A5.31,5.31,0,0,0,4.9,8.1,5.31,5.31,0,0,0,1,6.5,5.31,5.31,0,0,0,4.9,4.9,5.31,5.31,0,0,0,6.5,1,5.31,5.31,0,0,0,8.1,4.9,5.31,5.31,0,0,0,12,6.5,5.46,5.46,0,0,0,6.5,12Z\"/>\n",
              "  </svg>\n",
              "    </button>\n",
              "    <script>\n",
              "      (() => {\n",
              "      const buttonEl =\n",
              "        document.querySelector('#id_3d184310-a530-4795-bc37-88c8ef2c1dec button.colab-df-generate');\n",
              "      buttonEl.style.display =\n",
              "        google.colab.kernel.accessAllowed ? 'block' : 'none';\n",
              "\n",
              "      buttonEl.onclick = () => {\n",
              "        google.colab.notebook.generateWithVariable('new_df');\n",
              "      }\n",
              "      })();\n",
              "    </script>\n",
              "  </div>\n",
              "\n",
              "    </div>\n",
              "  </div>\n"
            ],
            "application/vnd.google.colaboratory.intrinsic+json": {
              "type": "dataframe",
              "variable_name": "new_df",
              "summary": "{\n  \"name\": \"new_df\",\n  \"rows\": 4806,\n  \"fields\": [\n    {\n      \"column\": \"movie_id\",\n      \"properties\": {\n        \"dtype\": \"number\",\n        \"std\": 88309,\n        \"min\": 5,\n        \"max\": 447027,\n        \"num_unique_values\": 4800,\n        \"samples\": [\n          8427,\n          9555,\n          10029\n        ],\n        \"semantic_type\": \"\",\n        \"description\": \"\"\n      }\n    },\n    {\n      \"column\": \"title\",\n      \"properties\": {\n        \"dtype\": \"string\",\n        \"num_unique_values\": 4797,\n        \"samples\": [\n          \"Two Brothers\",\n          \"From Paris with Love\",\n          \"Walk the Line\"\n        ],\n        \"semantic_type\": \"\",\n        \"description\": \"\"\n      }\n    },\n    {\n      \"column\": \"tags\",\n      \"properties\": {\n        \"dtype\": \"object\",\n        \"semantic_type\": \"\",\n        \"description\": \"\"\n      }\n    }\n  ]\n}"
            }
          },
          "metadata": {},
          "execution_count": 183
        }
      ]
    },
    {
      "cell_type": "code",
      "source": [
        "new_df['tags'] = new_df['tags'].apply(lambda x:\" \".join(x))"
      ],
      "metadata": {
        "colab": {
          "base_uri": "https://localhost:8080/"
        },
        "id": "_ewwlHNCsp4n",
        "outputId": "421964c0-03b5-4e98-986b-11b5968a941f"
      },
      "execution_count": 184,
      "outputs": [
        {
          "output_type": "stream",
          "name": "stderr",
          "text": [
            "<ipython-input-184-ad44e9ca1347>:1: SettingWithCopyWarning: \n",
            "A value is trying to be set on a copy of a slice from a DataFrame.\n",
            "Try using .loc[row_indexer,col_indexer] = value instead\n",
            "\n",
            "See the caveats in the documentation: https://pandas.pydata.org/pandas-docs/stable/user_guide/indexing.html#returning-a-view-versus-a-copy\n",
            "  new_df['tags'] = new_df['tags'].apply(lambda x:\" \".join(x))\n"
          ]
        }
      ]
    },
    {
      "cell_type": "code",
      "source": [
        "new_df['tags'][2]"
      ],
      "metadata": {
        "colab": {
          "base_uri": "https://localhost:8080/",
          "height": 87
        },
        "id": "-9ll7CoesptY",
        "outputId": "88a17d97-d58d-44c3-a758-dd96cb0796ab"
      },
      "execution_count": 185,
      "outputs": [
        {
          "output_type": "execute_result",
          "data": {
            "text/plain": [
              "'A cryptic message from Bond’s past sends him on a trail to uncover a sinister organization. While M battles political forces to keep the secret service alive, Bond peels back the layers of deceit to reveal the terrible truth behind SPECTRE. Action Adventure Crime spy basedonnovel secretagent sequel mi6 britishsecretservice unitedkingdom DanielCraig ChristophWaltz LéaSeydoux SamMendes'"
            ],
            "application/vnd.google.colaboratory.intrinsic+json": {
              "type": "string"
            }
          },
          "metadata": {},
          "execution_count": 185
        }
      ]
    },
    {
      "cell_type": "code",
      "source": [
        "# LOWER\n",
        "new_df['tags'] = new_df['tags'].apply(lambda x:x.lower())"
      ],
      "metadata": {
        "colab": {
          "base_uri": "https://localhost:8080/"
        },
        "id": "RZiJx0icspWn",
        "outputId": "8a2a3afd-07ee-493b-ca36-40a6ed225c8d"
      },
      "execution_count": 186,
      "outputs": [
        {
          "output_type": "stream",
          "name": "stderr",
          "text": [
            "<ipython-input-186-95d94ebd1c71>:2: SettingWithCopyWarning: \n",
            "A value is trying to be set on a copy of a slice from a DataFrame.\n",
            "Try using .loc[row_indexer,col_indexer] = value instead\n",
            "\n",
            "See the caveats in the documentation: https://pandas.pydata.org/pandas-docs/stable/user_guide/indexing.html#returning-a-view-versus-a-copy\n",
            "  new_df['tags'] = new_df['tags'].apply(lambda x:x.lower())\n"
          ]
        }
      ]
    },
    {
      "cell_type": "code",
      "source": [
        "new_df['tags'][0]"
      ],
      "metadata": {
        "colab": {
          "base_uri": "https://localhost:8080/",
          "height": 104
        },
        "id": "9NZ5t4QY0af4",
        "outputId": "eb472bd5-45fc-4dc2-d471-21d86e2f4644"
      },
      "execution_count": 187,
      "outputs": [
        {
          "output_type": "execute_result",
          "data": {
            "text/plain": [
              "'in the 22nd century, a paraplegic marine is dispatched to the moon pandora on a unique mission, but becomes torn between following orders and protecting an alien civilization. action adventure fantasy sciencefiction cultureclash future spacewar spacecolony society spacetravel futuristic romance space alien tribe alienplanet cgi marine soldier battle loveaffair antiwar powerrelations mindandsoul 3d samworthington zoesaldana sigourneyweaver jamescameron'"
            ],
            "application/vnd.google.colaboratory.intrinsic+json": {
              "type": "string"
            }
          },
          "metadata": {},
          "execution_count": 187
        }
      ]
    },
    {
      "cell_type": "code",
      "source": [
        "new_df['tags'][1]"
      ],
      "metadata": {
        "colab": {
          "base_uri": "https://localhost:8080/",
          "height": 104
        },
        "id": "9mRLUkpmlFj7",
        "outputId": "c7470173-bda8-4fe2-83ce-6965cb53b323"
      },
      "execution_count": 188,
      "outputs": [
        {
          "output_type": "execute_result",
          "data": {
            "text/plain": [
              "\"captain barbossa, long believed to be dead, has come back to life and is headed to the edge of the earth with will turner and elizabeth swann. but nothing is quite as it seems. adventure fantasy action ocean drugabuse exoticisland eastindiatradingcompany loveofone'slife traitor shipwreck strongwoman ship alliance calypso afterlife fighter pirate swashbuckler aftercreditsstinger johnnydepp orlandobloom keiraknightley goreverbinski\""
            ],
            "application/vnd.google.colaboratory.intrinsic+json": {
              "type": "string"
            }
          },
          "metadata": {},
          "execution_count": 188
        }
      ]
    },
    {
      "cell_type": "markdown",
      "source": [
        "#Stemming:\n",
        "The purpose of stemming is to simplify words so that different forms of the same word are treated as identical. This is particularly useful for improving the performance of text-based algorithms, such as search engines, sentiment analysis, topic modeling, and machine learning models."
      ],
      "metadata": {
        "id": "HUgpkkwDJV_u"
      }
    },
    {
      "cell_type": "code",
      "source": [
        "import nltk"
      ],
      "metadata": {
        "id": "iKc5y1kx5WFW"
      },
      "execution_count": 194,
      "outputs": []
    },
    {
      "cell_type": "code",
      "source": [
        "from nltk.stem.porter import PorterStemmer\n",
        "ps = PorterStemmer()"
      ],
      "metadata": {
        "id": "OnwbPrzE5Vyd"
      },
      "execution_count": 196,
      "outputs": []
    },
    {
      "cell_type": "markdown",
      "source": [
        "# User Helper function"
      ],
      "metadata": {
        "id": "EUskb955KAep"
      }
    },
    {
      "cell_type": "code",
      "source": [
        "def stem(text):\n",
        "  y = []\n",
        "  for i in text.split():\n",
        "    y.append(ps.stem(i))\n",
        "  return \" \".join(y)"
      ],
      "metadata": {
        "id": "SMOzz9DV5Vff"
      },
      "execution_count": 197,
      "outputs": []
    },
    {
      "cell_type": "code",
      "source": [
        "new_df['tags'] = new_df['tags'].apply(stem)"
      ],
      "metadata": {
        "colab": {
          "base_uri": "https://localhost:8080/"
        },
        "id": "yE6YQEc9DIf9",
        "outputId": "9d946136-23d7-44ea-bd8c-9fda8cb8a472"
      },
      "execution_count": 198,
      "outputs": [
        {
          "output_type": "stream",
          "name": "stderr",
          "text": [
            "<ipython-input-198-be18a4346d89>:1: SettingWithCopyWarning: \n",
            "A value is trying to be set on a copy of a slice from a DataFrame.\n",
            "Try using .loc[row_indexer,col_indexer] = value instead\n",
            "\n",
            "See the caveats in the documentation: https://pandas.pydata.org/pandas-docs/stable/user_guide/indexing.html#returning-a-view-versus-a-copy\n",
            "  new_df['tags'] = new_df['tags'].apply(stem)\n"
          ]
        }
      ]
    },
    {
      "cell_type": "code",
      "source": [
        "ps.stem('loved')"
      ],
      "metadata": {
        "colab": {
          "base_uri": "https://localhost:8080/",
          "height": 35
        },
        "id": "CRO4AxEeGvG-",
        "outputId": "15ea3f7f-5f96-48fa-d071-563656c4ada2"
      },
      "execution_count": 203,
      "outputs": [
        {
          "output_type": "execute_result",
          "data": {
            "text/plain": [
              "'love'"
            ],
            "application/vnd.google.colaboratory.intrinsic+json": {
              "type": "string"
            }
          },
          "metadata": {},
          "execution_count": 203
        }
      ]
    },
    {
      "cell_type": "markdown",
      "source": [
        "# Text Vectorization\n",
        "In order to recommend movies to the user, We have to calculate similarity between each movie by calculating similarity among the texts under TAGS column by converting its text into vectors(numbers)[each movie becomes a vector].  So if any of the movie is picked by the user, then other movies whcih has the highest scores(nearest neighbors) will be recommended.\n",
        "Technique used: Bag of words\n",
        "We will combine the words of each tag of all 5000 movies. Eg: If one text/movie has 100 words, 5000 movies will generate almost 5 Lakh words.Now from the large text, we will extract 5000 most frequent/common words.\n",
        "Now I will pick the tags of every movie and find which words are most common in it.\n",
        "\n",
        "Stop Words: Vectorization will be performed on main words excluding articles, prepositions and helping verbs."
      ],
      "metadata": {
        "id": "Pdi0PVHfjGfw"
      }
    },
    {
      "cell_type": "code",
      "source": [
        "from sklearn.feature_extraction.text import CountVectorizer\n",
        "cv = CountVectorizer(max_features=5000,stop_words='english')"
      ],
      "metadata": {
        "id": "B8mJ8FQT1ADc"
      },
      "execution_count": 199,
      "outputs": []
    },
    {
      "cell_type": "code",
      "source": [
        "vectors = cv.fit_transform(new_df['tags']).toarray()"
      ],
      "metadata": {
        "id": "VxWm2c8B2h9B"
      },
      "execution_count": 200,
      "outputs": []
    },
    {
      "cell_type": "code",
      "source": [
        "vectors"
      ],
      "metadata": {
        "colab": {
          "base_uri": "https://localhost:8080/"
        },
        "id": "tED0dAgG21PF",
        "outputId": "f7dd0ea9-6c5b-4e89-d8ab-8c90b5f2eab6"
      },
      "execution_count": 201,
      "outputs": [
        {
          "output_type": "execute_result",
          "data": {
            "text/plain": [
              "array([[0, 0, 0, ..., 0, 0, 0],\n",
              "       [0, 0, 0, ..., 0, 0, 0],\n",
              "       [0, 0, 0, ..., 0, 0, 0],\n",
              "       ...,\n",
              "       [0, 0, 0, ..., 0, 0, 0],\n",
              "       [0, 0, 0, ..., 0, 0, 0],\n",
              "       [0, 0, 0, ..., 0, 0, 0]])"
            ]
          },
          "metadata": {},
          "execution_count": 201
        }
      ]
    },
    {
      "cell_type": "code",
      "source": [
        "cv.get_feature_names_out()"
      ],
      "metadata": {
        "colab": {
          "base_uri": "https://localhost:8080/"
        },
        "id": "RIJUD6q13GqT",
        "outputId": "cec63daa-7e50-4a0d-c763-225018cbdf86"
      },
      "execution_count": 202,
      "outputs": [
        {
          "output_type": "execute_result",
          "data": {
            "text/plain": [
              "array(['000', '007', '10', ..., 'zone', 'zoo', 'zooeydeschanel'],\n",
              "      dtype=object)"
            ]
          },
          "metadata": {},
          "execution_count": 202
        }
      ]
    },
    {
      "cell_type": "markdown",
      "source": [
        "#Distance Calcualtion:\n",
        "We will calculate distance between one movie vector with another wih cosine similarity to find its angle instead of Eucledean distance becuase of high multiple dimensions to improve model performnce"
      ],
      "metadata": {
        "id": "WoasX60CWxB1"
      }
    },
    {
      "cell_type": "code",
      "source": [
        "from sklearn.metrics.pairwise import cosine_similarity"
      ],
      "metadata": {
        "id": "dJaOsBW1E3rV"
      },
      "execution_count": 204,
      "outputs": []
    },
    {
      "cell_type": "code",
      "source": [
        "similarity = cosine_similarity(vectors)"
      ],
      "metadata": {
        "id": "slsDpdbdE3Pm"
      },
      "execution_count": 206,
      "outputs": []
    },
    {
      "cell_type": "code",
      "source": [
        "sorted(list(enumerate(similarity[0])), reverse = True, key = lambda x:x[1])[1:6]"
      ],
      "metadata": {
        "colab": {
          "base_uri": "https://localhost:8080/"
        },
        "id": "Ef0xwF6cE3GQ",
        "outputId": "93407ff5-b42b-40e5-b0c6-0591ae6e60d8"
      },
      "execution_count": 212,
      "outputs": [
        {
          "output_type": "execute_result",
          "data": {
            "text/plain": [
              "[(1214, 0.28676966733820225),\n",
              " (2405, 0.26901379342448517),\n",
              " (3728, 0.2605130246476754),\n",
              " (507, 0.255608593705383),\n",
              " (539, 0.25038669783359574)]"
            ]
          },
          "metadata": {},
          "execution_count": 212
        }
      ]
    },
    {
      "cell_type": "markdown",
      "source": [
        "# Recommendation Function for the User"
      ],
      "metadata": {
        "id": "AIhWitbXajE2"
      }
    },
    {
      "cell_type": "code",
      "source": [
        "def recommend(movie):\n",
        "  movie_index = new_df[new_df['title'] == movie].index[0]\n",
        "  distances = similarity[movie_index]\n",
        "  movies_list = sorted(list(enumerate(distances)), reverse = True, key = lambda x:x[1])[1:6]\n",
        "\n",
        "  for i in movies_list:\n",
        "    print(new_df.iloc[i[0]].title)"
      ],
      "metadata": {
        "id": "fQvkvNdGHpxs"
      },
      "execution_count": 213,
      "outputs": []
    },
    {
      "cell_type": "code",
      "source": [
        "recommend('Avatar')"
      ],
      "metadata": {
        "colab": {
          "base_uri": "https://localhost:8080/"
        },
        "id": "Y_vkeyb7Qt7N",
        "outputId": "c9e14346-a4b5-4d32-acf8-9fee1bd6f260"
      },
      "execution_count": 214,
      "outputs": [
        {
          "output_type": "stream",
          "name": "stdout",
          "text": [
            "Aliens vs Predator: Requiem\n",
            "Aliens\n",
            "Falcon Rising\n",
            "Independence Day\n",
            "Titan A.E.\n"
          ]
        }
      ]
    },
    {
      "cell_type": "markdown",
      "source": [
        "# Next Step is deployment/website building as the model is ready."
      ],
      "metadata": {
        "id": "AXfnpNOnWO6_"
      }
    },
    {
      "cell_type": "code",
      "source": [
        "import pickle"
      ],
      "metadata": {
        "id": "fh4OsNN6fjf8"
      },
      "execution_count": 215,
      "outputs": []
    },
    {
      "cell_type": "code",
      "source": [
        "pickle.dump(new_df, open('movies.pkl', 'wb'))"
      ],
      "metadata": {
        "id": "zLL0faJHfpbW"
      },
      "execution_count": 217,
      "outputs": []
    },
    {
      "cell_type": "code",
      "source": [
        "import os\n",
        "\n",
        "# Get the current working directory\n",
        "current_directory = os.getcwd()\n",
        "print(\"Current Working Directory:\", current_directory)"
      ],
      "metadata": {
        "colab": {
          "base_uri": "https://localhost:8080/"
        },
        "id": "eXsmqGxEh-zW",
        "outputId": "d1a84d99-f6b9-4a9e-ffa4-1d2639008aaf"
      },
      "execution_count": 218,
      "outputs": [
        {
          "output_type": "stream",
          "name": "stdout",
          "text": [
            "Current Working Directory: /content\n"
          ]
        }
      ]
    },
    {
      "cell_type": "code",
      "source": [
        "new_df['title'].values"
      ],
      "metadata": {
        "colab": {
          "base_uri": "https://localhost:8080/"
        },
        "id": "tVBVd6oVnSti",
        "outputId": "32423bf8-d116-440f-ddcf-964801f00dc5"
      },
      "execution_count": 219,
      "outputs": [
        {
          "output_type": "execute_result",
          "data": {
            "text/plain": [
              "array(['Avatar', \"Pirates of the Caribbean: At World's End\", 'Spectre',\n",
              "       ..., 'Signed, Sealed, Delivered', 'Shanghai Calling',\n",
              "       'My Date with Drew'], dtype=object)"
            ]
          },
          "metadata": {},
          "execution_count": 219
        }
      ]
    },
    {
      "cell_type": "code",
      "source": [
        "pickle.dump(new_df.to_dict(), open('movie_dict.pkl', 'wb'))"
      ],
      "metadata": {
        "id": "PQgmRo-Kol-1"
      },
      "execution_count": 222,
      "outputs": []
    },
    {
      "cell_type": "code",
      "source": [
        "pickle.dump(similarity, open('similarity.pkl', 'wb'))"
      ],
      "metadata": {
        "id": "y0bwegPHAOC9"
      },
      "execution_count": 223,
      "outputs": []
    },
    {
      "cell_type": "markdown",
      "source": [
        "![Screen Shot 2025-03-07 at 20.24.32.png](data:image/png;base64,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)"
      ],
      "metadata": {
        "id": "uAwVNTEJ7PYq"
      }
    },
    {
      "cell_type": "code",
      "source": [],
      "metadata": {
        "id": "5CLr8oNa7eZR"
      },
      "execution_count": null,
      "outputs": []
    }
  ]
}